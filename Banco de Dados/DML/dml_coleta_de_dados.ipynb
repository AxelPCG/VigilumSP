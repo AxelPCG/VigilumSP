{
 "cells": [
  {
   "cell_type": "markdown",
   "metadata": {},
   "source": [
    "### Bibliotecas"
   ]
  },
  {
   "cell_type": "code",
   "execution_count": 14,
   "metadata": {},
   "outputs": [],
   "source": [
    "import geopandas as gpd\n",
    "import cx_Oracle\n",
    "import os"
   ]
  },
  {
   "cell_type": "markdown",
   "metadata": {},
   "source": [
    "### Diretórios"
   ]
  },
  {
   "cell_type": "code",
   "execution_count": 11,
   "metadata": {},
   "outputs": [],
   "source": [
    "# DEFINIÇÕES DE DIRETÓRIOS\n",
    "BASE_DIR = os.getcwd()\n",
    "DIR_PAI = os.path.dirname(os.path.dirname(BASE_DIR))\n",
    "DIR_COLETA_DADOS = os.path.join(DIR_PAI, \"Coleta de Dados\")\n",
    "DIR_CORD = os.path.join(DIR_COLETA_DADOS, \"COORDENADAS_REGIOES\")\n",
    "DIR_MUNICIPIO_SP = os.path.join(DIR_CORD, \"cidade_sp.geojson\")\n",
    "DIR_ZONAS_SP = os.path.join(DIR_CORD, \"zonas_sp.geojson\")\n",
    "DIR_DISTRITOS_SP = os.path.join(DIR_CORD, \"distrito_sp.geojson\")"
   ]
  },
  {
   "cell_type": "markdown",
   "metadata": {},
   "source": [
    "### Funções Auxiliares"
   ]
  },
  {
   "cell_type": "code",
   "execution_count": null,
   "metadata": {},
   "outputs": [],
   "source": [
    "# Conectar ao banco de dados Oracle\n",
    "conn = cx_Oracle.connect(user='seu_usuario', password='sua_senha', dsn='seu_dsn')\n",
    "cursor = conn.cursor()"
   ]
  },
  {
   "cell_type": "markdown",
   "metadata": {},
   "source": [
    "#### INSERT COORDENADAS - TBL_Municipio, TBL_Zona, TBL_Distrito "
   ]
  },
  {
   "cell_type": "code",
   "execution_count": 12,
   "metadata": {},
   "outputs": [],
   "source": [
    "# Carregar o arquivo GeoJSON usando GeoPandas\n",
    "gdf = gpd.read_file(DIR_MUNICIPIO_SP)"
   ]
  },
  {
   "cell_type": "code",
   "execution_count": 13,
   "metadata": {},
   "outputs": [
    {
     "data": {
      "text/html": [
       "<div>\n",
       "<style scoped>\n",
       "    .dataframe tbody tr th:only-of-type {\n",
       "        vertical-align: middle;\n",
       "    }\n",
       "\n",
       "    .dataframe tbody tr th {\n",
       "        vertical-align: top;\n",
       "    }\n",
       "\n",
       "    .dataframe thead th {\n",
       "        text-align: right;\n",
       "    }\n",
       "</style>\n",
       "<table border=\"1\" class=\"dataframe\">\n",
       "  <thead>\n",
       "    <tr style=\"text-align: right;\">\n",
       "      <th></th>\n",
       "      <th>CD_MUN</th>\n",
       "      <th>NM_MUN</th>\n",
       "      <th>AREA_KM2</th>\n",
       "      <th>CORD_CENTRAL</th>\n",
       "      <th>geometry</th>\n",
       "    </tr>\n",
       "  </thead>\n",
       "  <tbody>\n",
       "    <tr>\n",
       "      <th>0</th>\n",
       "      <td>3550308</td>\n",
       "      <td>São Paulo</td>\n",
       "      <td>1521.11</td>\n",
       "      <td>POINT (-46.647972 -23.649892)</td>\n",
       "      <td>POLYGON ((-46.55066 -23.35714, -46.55011 -23.3...</td>\n",
       "    </tr>\n",
       "  </tbody>\n",
       "</table>\n",
       "</div>"
      ],
      "text/plain": [
       "    CD_MUN     NM_MUN  AREA_KM2                   CORD_CENTRAL  \\\n",
       "0  3550308  São Paulo   1521.11  POINT (-46.647972 -23.649892)   \n",
       "\n",
       "                                            geometry  \n",
       "0  POLYGON ((-46.55066 -23.35714, -46.55011 -23.3...  "
      ]
     },
     "execution_count": 13,
     "metadata": {},
     "output_type": "execute_result"
    }
   ],
   "source": [
    "gdf"
   ]
  },
  {
   "cell_type": "code",
   "execution_count": null,
   "metadata": {},
   "outputs": [],
   "source": [
    "# Iterar sobre os dados e inserir no banco de dados\n",
    "for _, row in gdf.iterrows():\n",
    "    nm_mun = row['nome_municipio']  # Supondo que esta seja a coluna com o nome do município\n",
    "    sg_estado = row['sigla_estado']  # Supondo que esta seja a coluna com a sigla do estado\n",
    "    area_km2 = row['area_km2']  # Supondo que esta seja a coluna com a área em km²\n",
    "    geometry = row['geometry'].wkt  # Converter a geometria para Well-Known Text (WKT)\n",
    "    \n",
    "    # Inserir no banco de dados\n",
    "    cursor.execute(\"\"\"\n",
    "        INSERT INTO TBL_Municipio (NM_MUN, SG_Estado, AREA_KM2, geometry)\n",
    "        VALUES (:nm_mun, :sg_estado, :area_km2, SDO_GEOMETRY(:geometry, 4326))\n",
    "    \"\"\", nm_mun=nm_mun, sg_estado=sg_estado, area_km2=area_km2, geometry=geometry)"
   ]
  },
  {
   "cell_type": "code",
   "execution_count": null,
   "metadata": {},
   "outputs": [],
   "source": [
    "# Confirmar as inserções e fechar a conexão\n",
    "conn.commit()\n",
    "cursor.close()\n",
    "conn.close()"
   ]
  }
 ],
 "metadata": {
  "kernelspec": {
   "display_name": ".venv",
   "language": "python",
   "name": "python3"
  },
  "language_info": {
   "codemirror_mode": {
    "name": "ipython",
    "version": 3
   },
   "file_extension": ".py",
   "mimetype": "text/x-python",
   "name": "python",
   "nbconvert_exporter": "python",
   "pygments_lexer": "ipython3",
   "version": "3.11.4"
  }
 },
 "nbformat": 4,
 "nbformat_minor": 2
}
