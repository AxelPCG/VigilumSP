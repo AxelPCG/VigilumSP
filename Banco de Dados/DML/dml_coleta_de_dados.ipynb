{
 "cells": [
  {
   "cell_type": "markdown",
   "metadata": {},
   "source": [
    "### Bibliotecas"
   ]
  },
  {
   "cell_type": "code",
   "execution_count": 1,
   "metadata": {},
   "outputs": [],
   "source": [
    "import geopandas as gpd\n",
    "import pandas as pd\n",
    "import cx_Oracle\n",
    "import os\n",
    "from dotenv import load_dotenv\n",
    "from shapely.wkt import loads\n",
    "from shapely import wkt\n",
    "from funcoes_conexao import conexao_oracle, finaliza_conexao, consulta_para_dataframe, truncate_tabelas"
   ]
  },
  {
   "cell_type": "markdown",
   "metadata": {},
   "source": [
    "### Diretórios"
   ]
  },
  {
   "cell_type": "code",
   "execution_count": 30,
   "metadata": {},
   "outputs": [],
   "source": [
    "# DEFINIÇÕES DE DIRETÓRIOS\n",
    "BASE_DIR = os.getcwd()\n",
    "DIR_PAI = os.path.dirname(os.path.dirname(BASE_DIR))\n",
    "DIR_COLETA_DADOS = os.path.join(DIR_PAI, \"Coleta de Dados\")\n",
    "\n",
    "# Diretórios de coordenadas\n",
    "DIR_CORD = os.path.join(DIR_COLETA_DADOS, \"COORDENADAS_REGIOES\")\n",
    "DIR_MUNICIPIO_SP = os.path.join(DIR_CORD, \"cidade_sp.geojson\")\n",
    "DIR_ZONAS_SP = os.path.join(DIR_CORD, \"zonas_sp.geojson\")\n",
    "DIR_DISTRITOS_SP = os.path.join(DIR_CORD, \"distrito_sp.geojson\")\n",
    "\n",
    "# Diretórios de dados históricos\n",
    "DIR_PORTAL_INMET = os.path.join(DIR_COLETA_DADOS, \"PORTAL_INMET\")\n",
    "DIR_TRATADOS_CIDADE_SP = os.path.join(DIR_PORTAL_INMET, \"DADOS_TRATADOS_CIDADE_SP\")"
   ]
  },
  {
   "cell_type": "code",
   "execution_count": 31,
   "metadata": {},
   "outputs": [
    {
     "data": {
      "text/plain": [
       "True"
      ]
     },
     "execution_count": 31,
     "metadata": {},
     "output_type": "execute_result"
    }
   ],
   "source": [
    "load_dotenv()"
   ]
  },
  {
   "cell_type": "code",
   "execution_count": 32,
   "metadata": {},
   "outputs": [],
   "source": [
    "username = os.getenv('USERNAME_ORC')\n",
    "password = os.getenv(\"PASSWORD_ORC\")\n",
    "dsn = 'ORACLE.FIAP.COM.BR:1521/ORCL'"
   ]
  },
  {
   "cell_type": "markdown",
   "metadata": {},
   "source": [
    "#### Inicializando Conexão ORC"
   ]
  },
  {
   "cell_type": "code",
   "execution_count": 33,
   "metadata": {},
   "outputs": [],
   "source": [
    "connection, cursor = conexao_oracle(username, password, dsn)\n",
    "\n",
    "#if connection and cursor:\n",
    "#    finaliza_conexao(cursor, connection)"
   ]
  },
  {
   "cell_type": "markdown",
   "metadata": {},
   "source": [
    "#### Limpa Tabelas"
   ]
  },
  {
   "cell_type": "code",
   "execution_count": 34,
   "metadata": {},
   "outputs": [
    {
     "name": "stdout",
     "output_type": "stream",
     "text": [
      "Truncando a tabela TBL_Previsao...\n",
      "Truncando a tabela TBL_Previsao_Futura...\n",
      "Truncando a tabela TBL_Distrito...\n",
      "Truncando a tabela TBL_Zona...\n",
      "Truncando a tabela TBL_Municipio...\n",
      "Todas as tabelas foram truncadas com sucesso!\n",
      "Cursor fechado.\n"
     ]
    }
   ],
   "source": [
    "truncate_tabelas(connection)"
   ]
  },
  {
   "cell_type": "markdown",
   "metadata": {},
   "source": [
    "#### INSERT COORDENADAS - TBL_Municipio, TBL_Zona, TBL_Distrito "
   ]
  },
  {
   "cell_type": "markdown",
   "metadata": {},
   "source": [
    "##### TBL_Municipio"
   ]
  },
  {
   "cell_type": "code",
   "execution_count": 35,
   "metadata": {},
   "outputs": [
    {
     "data": {
      "text/html": [
       "<div>\n",
       "<style scoped>\n",
       "    .dataframe tbody tr th:only-of-type {\n",
       "        vertical-align: middle;\n",
       "    }\n",
       "\n",
       "    .dataframe tbody tr th {\n",
       "        vertical-align: top;\n",
       "    }\n",
       "\n",
       "    .dataframe thead th {\n",
       "        text-align: right;\n",
       "    }\n",
       "</style>\n",
       "<table border=\"1\" class=\"dataframe\">\n",
       "  <thead>\n",
       "    <tr style=\"text-align: right;\">\n",
       "      <th></th>\n",
       "      <th>CD_MUN</th>\n",
       "      <th>NM_MUN</th>\n",
       "      <th>SG_ESTADO</th>\n",
       "      <th>AREA_KM2</th>\n",
       "      <th>GEOMETRY</th>\n",
       "      <th>CORD_CENTRAL</th>\n",
       "    </tr>\n",
       "  </thead>\n",
       "  <tbody>\n",
       "  </tbody>\n",
       "</table>\n",
       "</div>"
      ],
      "text/plain": [
       "Empty DataFrame\n",
       "Columns: [CD_MUN, NM_MUN, SG_ESTADO, AREA_KM2, GEOMETRY, CORD_CENTRAL]\n",
       "Index: []"
      ]
     },
     "execution_count": 35,
     "metadata": {},
     "output_type": "execute_result"
    }
   ],
   "source": [
    "# Consulta SQL\n",
    "query_teste = \"SELECT * FROM TBL_Municipio\"\n",
    "\n",
    "# Executa a consulta e obtém os resultados em um DataFrame\n",
    "df_teste = consulta_para_dataframe(cursor, query_teste)\n",
    "df_teste"
   ]
  },
  {
   "cell_type": "code",
   "execution_count": 36,
   "metadata": {},
   "outputs": [
    {
     "name": "stdout",
     "output_type": "stream",
     "text": [
      "    CD_MUN     NM_MUN  AREA_KM2                   CORD_CENTRAL  \\\n",
      "0  3550308  São Paulo   1521.11  POINT (-46.647972 -23.649892)   \n",
      "\n",
      "                                            geometry  \n",
      "0  POLYGON ((-46.55066 -23.35714, -46.55011 -23.3...  \n",
      "CD_MUN             int32\n",
      "NM_MUN            object\n",
      "AREA_KM2         float64\n",
      "CORD_CENTRAL      object\n",
      "geometry        geometry\n",
      "dtype: object\n"
     ]
    }
   ],
   "source": [
    "# Carregar o arquivo GeoJSON usando GeoPandas\n",
    "gdf_mun = gpd.read_file(DIR_MUNICIPIO_SP)\n",
    "\n",
    "# Verifique o conteúdo do GeoDataFrame\n",
    "print(gdf_mun.head())\n",
    "print(gdf_mun.dtypes)"
   ]
  },
  {
   "cell_type": "code",
   "execution_count": 37,
   "metadata": {},
   "outputs": [],
   "source": [
    "def insert_municipio_data(connection, gdf):\n",
    "    cursor = connection.cursor()\n",
    "\n",
    "    try:\n",
    "        for _, row in gdf.iterrows():\n",
    "            cd_mun = row['CD_MUN']\n",
    "            nm_mun = row['NM_MUN']\n",
    "            sg_estado = 'SP'  # Ajuste conforme necessário\n",
    "            area_km2 = row['AREA_KM2']\n",
    "\n",
    "            # Certifique-se de que as colunas 'geometry' e 'CORD_CENTRAL' são objetos Shapely\n",
    "            if isinstance(row['geometry'], str):\n",
    "                geom = loads(row['geometry'])\n",
    "            else:\n",
    "                geom = row['geometry']\n",
    "\n",
    "            if isinstance(row['CORD_CENTRAL'], str):\n",
    "                central_geom = loads(row['CORD_CENTRAL'])\n",
    "            else:\n",
    "                central_geom = row['CORD_CENTRAL']\n",
    "\n",
    "            # Converta para WKT para ser utilizado no PL/SQL\n",
    "            geometry_wkt = geom.wkt\n",
    "            cor_central_wkt = central_geom.wkt if central_geom else None\n",
    "\n",
    "            # Bloco PL/SQL para inserir a geometria no Oracle\n",
    "            plsql = \"\"\"\n",
    "            DECLARE\n",
    "                geom SDO_GEOMETRY;\n",
    "                central_geom SDO_GEOMETRY;\n",
    "            BEGIN\n",
    "                geom := SDO_GEOMETRY(:geometry_wkt, 4326);\n",
    "                IF :cor_central_wkt IS NOT NULL THEN\n",
    "                    central_geom := SDO_GEOMETRY(:cor_central_wkt, 4326);\n",
    "                ELSE\n",
    "                    central_geom := NULL;\n",
    "                END IF;\n",
    "                INSERT INTO TBL_Municipio (CD_MUN, NM_MUN, SG_Estado, AREA_KM2, GEOMETRY, CORD_CENTRAL)\n",
    "                VALUES (:cd_mun, :nm_mun, :sg_estado, :area_km2, geom, central_geom);\n",
    "            END;\n",
    "            \"\"\"\n",
    "            cursor.execute(plsql, cd_mun=cd_mun, nm_mun=nm_mun, sg_estado=sg_estado, area_km2=area_km2, \n",
    "                           geometry_wkt=geometry_wkt, cor_central_wkt=cor_central_wkt)\n",
    "\n",
    "        connection.commit()\n",
    "        print(\"Dados inseridos com sucesso!\")\n",
    "\n",
    "    except cx_Oracle.DatabaseError as e:\n",
    "        error, = e.args\n",
    "        print(f\"Erro ao inserir dados: {error.message}\")\n",
    "        connection.rollback()\n",
    "        print(\"Alterações desfeitas (rollback) devido ao erro.\")\n",
    "\n",
    "    except Exception as e:\n",
    "        print(f\"Ocorreu um erro inesperado: {str(e)}\")\n",
    "        connection.rollback()\n",
    "        print(\"Alterações desfeitas (rollback) devido ao erro.\")\n",
    "\n",
    "    finally:\n",
    "        if cursor:\n",
    "            cursor.close()\n",
    "        print(\"Cursor fechado.\")"
   ]
  },
  {
   "cell_type": "code",
   "execution_count": 38,
   "metadata": {},
   "outputs": [
    {
     "name": "stdout",
     "output_type": "stream",
     "text": [
      "Dados inseridos com sucesso!\n",
      "Cursor fechado.\n"
     ]
    }
   ],
   "source": [
    "# Inserindo os dados\n",
    "if connection:\n",
    "    insert_municipio_data(connection, gdf_mun)"
   ]
  },
  {
   "cell_type": "code",
   "execution_count": 39,
   "metadata": {},
   "outputs": [],
   "source": [
    "def read_municipio_data(connection):\n",
    "    cursor = connection.cursor()\n",
    "    \n",
    "    try:\n",
    "        # Consultar dados da tabela\n",
    "        cursor.execute(\"\"\"\n",
    "            SELECT \n",
    "                CD_MUN, \n",
    "                NM_MUN, \n",
    "                SG_Estado, \n",
    "                AREA_KM2, \n",
    "                SDO_UTIL.TO_WKTGEOMETRY(GEOMETRY) as geometry_wkt, \n",
    "                SDO_UTIL.TO_WKTGEOMETRY(CORD_CENTRAL) as cord_central_wkt \n",
    "            FROM TBL_Municipio\n",
    "        \"\"\")\n",
    "        \n",
    "        rows = cursor.fetchall()\n",
    "\n",
    "        # Extrair as colunas dos resultados\n",
    "        col_names = [desc[0] for desc in cursor.description]\n",
    "\n",
    "        # Criar um DataFrame com os resultados\n",
    "        df = pd.DataFrame(rows, columns=col_names)\n",
    "\n",
    "        # Converter colunas LOB para string e remover as colunas extras\n",
    "        df['geometry'] = df['GEOMETRY_WKT'].apply(lambda x: loads(x.read()) if isinstance(x, cx_Oracle.LOB) else loads(x))\n",
    "        df['CORD_CENTRAL'] = df['CORD_CENTRAL_WKT'].apply(lambda x: loads(x.read()) if isinstance(x, cx_Oracle.LOB) else (loads(x) if x else None))\n",
    "\n",
    "        # Remover colunas WKT que não são mais necessárias\n",
    "        df.drop(columns=['GEOMETRY_WKT', 'CORD_CENTRAL_WKT'], inplace=True)\n",
    "\n",
    "        # Criar um GeoDataFrame\n",
    "        gdf = gpd.GeoDataFrame(df, geometry='geometry')\n",
    "\n",
    "        return gdf\n",
    "\n",
    "    except cx_Oracle.DatabaseError as e:\n",
    "        error, = e.args\n",
    "        print(f\"Erro ao ler dados: {error.message}\")\n",
    "\n",
    "    finally:\n",
    "        if cursor:\n",
    "            cursor.close()\n",
    "        print(\"Cursor fechado.\")"
   ]
  },
  {
   "cell_type": "code",
   "execution_count": 40,
   "metadata": {},
   "outputs": [
    {
     "name": "stdout",
     "output_type": "stream",
     "text": [
      "Cursor fechado.\n"
     ]
    },
    {
     "data": {
      "text/html": [
       "<div>\n",
       "<style scoped>\n",
       "    .dataframe tbody tr th:only-of-type {\n",
       "        vertical-align: middle;\n",
       "    }\n",
       "\n",
       "    .dataframe tbody tr th {\n",
       "        vertical-align: top;\n",
       "    }\n",
       "\n",
       "    .dataframe thead th {\n",
       "        text-align: right;\n",
       "    }\n",
       "</style>\n",
       "<table border=\"1\" class=\"dataframe\">\n",
       "  <thead>\n",
       "    <tr style=\"text-align: right;\">\n",
       "      <th></th>\n",
       "      <th>CD_MUN</th>\n",
       "      <th>NM_MUN</th>\n",
       "      <th>SG_ESTADO</th>\n",
       "      <th>AREA_KM2</th>\n",
       "      <th>geometry</th>\n",
       "      <th>CORD_CENTRAL</th>\n",
       "    </tr>\n",
       "  </thead>\n",
       "  <tbody>\n",
       "    <tr>\n",
       "      <th>0</th>\n",
       "      <td>3550308</td>\n",
       "      <td>São Paulo</td>\n",
       "      <td>SP</td>\n",
       "      <td>1521.11</td>\n",
       "      <td>POLYGON ((-46.55066 -23.35714, -46.55011 -23.3...</td>\n",
       "      <td>POINT (-46.647972 -23.649892)</td>\n",
       "    </tr>\n",
       "  </tbody>\n",
       "</table>\n",
       "</div>"
      ],
      "text/plain": [
       "    CD_MUN     NM_MUN SG_ESTADO  AREA_KM2  \\\n",
       "0  3550308  São Paulo        SP   1521.11   \n",
       "\n",
       "                                            geometry  \\\n",
       "0  POLYGON ((-46.55066 -23.35714, -46.55011 -23.3...   \n",
       "\n",
       "                    CORD_CENTRAL  \n",
       "0  POINT (-46.647972 -23.649892)  "
      ]
     },
     "execution_count": 40,
     "metadata": {},
     "output_type": "execute_result"
    }
   ],
   "source": [
    "# Ler os dados da tabela\n",
    "Select_TBL_Municipio = read_municipio_data(connection)\n",
    "Select_TBL_Municipio"
   ]
  },
  {
   "cell_type": "markdown",
   "metadata": {},
   "source": [
    "##### TBL_Zona "
   ]
  },
  {
   "cell_type": "code",
   "execution_count": 41,
   "metadata": {},
   "outputs": [
    {
     "data": {
      "text/html": [
       "<div>\n",
       "<style scoped>\n",
       "    .dataframe tbody tr th:only-of-type {\n",
       "        vertical-align: middle;\n",
       "    }\n",
       "\n",
       "    .dataframe tbody tr th {\n",
       "        vertical-align: top;\n",
       "    }\n",
       "\n",
       "    .dataframe thead th {\n",
       "        text-align: right;\n",
       "    }\n",
       "</style>\n",
       "<table border=\"1\" class=\"dataframe\">\n",
       "  <thead>\n",
       "    <tr style=\"text-align: right;\">\n",
       "      <th></th>\n",
       "      <th>ID</th>\n",
       "      <th>NOME_ZONA</th>\n",
       "      <th>GEOMETRY</th>\n",
       "      <th>CORD_CENTRAL</th>\n",
       "      <th>MUNICIPIO_ID</th>\n",
       "    </tr>\n",
       "  </thead>\n",
       "  <tbody>\n",
       "  </tbody>\n",
       "</table>\n",
       "</div>"
      ],
      "text/plain": [
       "Empty DataFrame\n",
       "Columns: [ID, NOME_ZONA, GEOMETRY, CORD_CENTRAL, MUNICIPIO_ID]\n",
       "Index: []"
      ]
     },
     "execution_count": 41,
     "metadata": {},
     "output_type": "execute_result"
    }
   ],
   "source": [
    "# Consulta SQL\n",
    "query_teste = \"SELECT * FROM TBL_ZONA\"\n",
    "\n",
    "# Executa a consulta e obtém os resultados em um DataFrame\n",
    "df_teste = consulta_para_dataframe(cursor, query_teste)\n",
    "df_teste"
   ]
  },
  {
   "cell_type": "code",
   "execution_count": 42,
   "metadata": {},
   "outputs": [
    {
     "name": "stdout",
     "output_type": "stream",
     "text": [
      "              Zona                   CORD_CENTRAL   CD_MUN  \\\n",
      "0  Centro Ampliado  POINT (-46.679579 -23.582388)  3550308   \n",
      "1     Zona Leste 1  POINT (-46.542663 -23.561831)  3550308   \n",
      "2     Zona Leste 2  POINT (-46.443353 -23.549433)  3550308   \n",
      "3       Zona Norte   POINT (-46.673093 -23.45335)  3550308   \n",
      "4         Zona Sul  POINT (-46.708599 -23.813758)  3550308   \n",
      "\n",
      "                                            geometry  \n",
      "0  POLYGON ((-46.67421 -23.64222, -46.67437 -23.6...  \n",
      "1  POLYGON ((-46.57536 -23.6008, -46.57552 -23.60...  \n",
      "2  POLYGON ((-46.45643 -23.64132, -46.4565 -23.64...  \n",
      "3  POLYGON ((-46.67805 -23.51367, -46.67863 -23.5...  \n",
      "4  POLYGON ((-46.60925 -23.90462, -46.60876 -23.9...  \n",
      "Zona              object\n",
      "CORD_CENTRAL      object\n",
      "CD_MUN             int32\n",
      "geometry        geometry\n",
      "dtype: object\n"
     ]
    }
   ],
   "source": [
    "# Carregar o arquivo GeoJSON usando GeoPandas\n",
    "gdf_zon = gpd.read_file(DIR_ZONAS_SP)\n",
    "\n",
    "# Verifique o conteúdo do GeoDataFrame\n",
    "print(gdf_zon.head())\n",
    "print(gdf_zon.dtypes)"
   ]
  },
  {
   "cell_type": "code",
   "execution_count": 43,
   "metadata": {},
   "outputs": [],
   "source": [
    "def insert_zona_data(connection, gdf_zon):\n",
    "    cursor = connection.cursor()\n",
    "\n",
    "    try:\n",
    "        for _, row in gdf_zon.iterrows():\n",
    "            nome = row['Zona']\n",
    "            municipio_id = row['CD_MUN']  # Presumindo que CD_MUN refere-se ao MUNICIPIO_ID\n",
    "\n",
    "            # Certifique-se de que as colunas 'geometry' e 'CORD_CENTRAL' são objetos Shapely\n",
    "            if isinstance(row['geometry'], str):\n",
    "                geom = loads(row['geometry'])\n",
    "            else:\n",
    "                geom = row['geometry']\n",
    "\n",
    "            if isinstance(row['CORD_CENTRAL'], str):\n",
    "                central_geom = loads(row['CORD_CENTRAL'])\n",
    "            else:\n",
    "                central_geom = row['CORD_CENTRAL']\n",
    "\n",
    "            # Converta para WKT para ser utilizado no PL/SQL\n",
    "            geometry_wkt = geom.wkt\n",
    "            cor_central_wkt = central_geom.wkt if central_geom else None\n",
    "\n",
    "            # Bloco PL/SQL para inserir a geometria no Oracle\n",
    "            plsql = \"\"\"\n",
    "            DECLARE\n",
    "                geom SDO_GEOMETRY;\n",
    "                central_geom SDO_GEOMETRY;\n",
    "            BEGIN\n",
    "                geom := SDO_GEOMETRY(:geometry_wkt, 4326);\n",
    "                IF :cor_central_wkt IS NOT NULL THEN\n",
    "                    central_geom := SDO_GEOMETRY(:cor_central_wkt, 4326);\n",
    "                ELSE\n",
    "                    central_geom := NULL;\n",
    "                END IF;\n",
    "                INSERT INTO TBL_ZONA (NOME_ZONA, GEOMETRY, CORD_CENTRAL, MUNICIPIO_ID)\n",
    "                VALUES (:nome, geom, central_geom, :municipio_id);\n",
    "            END;\n",
    "            \"\"\"\n",
    "            cursor.execute(plsql, nome=nome, municipio_id=municipio_id, \n",
    "                           geometry_wkt=geometry_wkt, cor_central_wkt=cor_central_wkt)\n",
    "\n",
    "        connection.commit()\n",
    "        print(\"Dados inseridos com sucesso na TBL_ZONA!\")\n",
    "\n",
    "    except cx_Oracle.DatabaseError as e:\n",
    "        error, = e.args\n",
    "        print(f\"Erro ao inserir dados: {error.message}\")\n",
    "        connection.rollback()\n",
    "        print(\"Alterações desfeitas (rollback) devido ao erro.\")\n",
    "\n",
    "    except Exception as e:\n",
    "        print(f\"Ocorreu um erro inesperado: {str(e)}\")\n",
    "        connection.rollback()\n",
    "        print(\"Alterações desfeitas (rollback) devido ao erro.\")\n",
    "\n",
    "    finally:\n",
    "        if cursor:\n",
    "            cursor.close()\n",
    "        print(\"Cursor fechado.\")"
   ]
  },
  {
   "cell_type": "code",
   "execution_count": 44,
   "metadata": {},
   "outputs": [
    {
     "name": "stdout",
     "output_type": "stream",
     "text": [
      "Dados inseridos com sucesso na TBL_ZONA!\n",
      "Cursor fechado.\n"
     ]
    }
   ],
   "source": [
    "if connection:\n",
    "    insert_zona_data(connection, gdf_zon)"
   ]
  },
  {
   "cell_type": "code",
   "execution_count": 45,
   "metadata": {},
   "outputs": [],
   "source": [
    "def read_zona_data(connection):\n",
    "    cursor = connection.cursor()\n",
    "    \n",
    "    try:\n",
    "        # Consultar dados da tabela TBL_ZONA\n",
    "        cursor.execute(\"\"\"\n",
    "            SELECT \n",
    "                ID, \n",
    "                NOME_ZONA, \n",
    "                MUNICIPIO_ID,\n",
    "                SDO_UTIL.TO_WKTGEOMETRY(GEOMETRY) as geometry_wkt, \n",
    "                SDO_UTIL.TO_WKTGEOMETRY(CORD_CENTRAL) as cord_central_wkt \n",
    "            FROM TBL_ZONA\n",
    "        \"\"\")\n",
    "        \n",
    "        rows = cursor.fetchall()\n",
    "\n",
    "        # Extrair as colunas dos resultados\n",
    "        col_names = [desc[0] for desc in cursor.description]\n",
    "\n",
    "        # Criar um DataFrame com os resultados\n",
    "        df = pd.DataFrame(rows, columns=col_names)\n",
    "\n",
    "        # Converter colunas LOB para string e remover as colunas extras\n",
    "        df['geometry'] = df['GEOMETRY_WKT'].apply(lambda x: loads(x.read()) if isinstance(x, cx_Oracle.LOB) else loads(x))\n",
    "        df['CORD_CENTRAL'] = df['CORD_CENTRAL_WKT'].apply(lambda x: loads(x.read()) if isinstance(x, cx_Oracle.LOB) else (loads(x) if x else None))\n",
    "\n",
    "        # Remover colunas WKT que não são mais necessárias\n",
    "        df.drop(columns=['GEOMETRY_WKT', 'CORD_CENTRAL_WKT'], inplace=True)\n",
    "\n",
    "        # Criar um GeoDataFrame\n",
    "        gdf = gpd.GeoDataFrame(df, geometry='geometry')\n",
    "\n",
    "        return gdf\n",
    "\n",
    "    except cx_Oracle.DatabaseError as e:\n",
    "        error, = e.args\n",
    "        print(f\"Erro ao ler dados: {error.message}\")\n",
    "\n",
    "    finally:\n",
    "        if cursor:\n",
    "            cursor.close()\n",
    "        print(\"Cursor fechado.\")"
   ]
  },
  {
   "cell_type": "code",
   "execution_count": 46,
   "metadata": {},
   "outputs": [
    {
     "name": "stdout",
     "output_type": "stream",
     "text": [
      "Cursor fechado.\n"
     ]
    },
    {
     "data": {
      "text/html": [
       "<div>\n",
       "<style scoped>\n",
       "    .dataframe tbody tr th:only-of-type {\n",
       "        vertical-align: middle;\n",
       "    }\n",
       "\n",
       "    .dataframe tbody tr th {\n",
       "        vertical-align: top;\n",
       "    }\n",
       "\n",
       "    .dataframe thead th {\n",
       "        text-align: right;\n",
       "    }\n",
       "</style>\n",
       "<table border=\"1\" class=\"dataframe\">\n",
       "  <thead>\n",
       "    <tr style=\"text-align: right;\">\n",
       "      <th></th>\n",
       "      <th>ID</th>\n",
       "      <th>NOME_ZONA</th>\n",
       "      <th>MUNICIPIO_ID</th>\n",
       "      <th>geometry</th>\n",
       "      <th>CORD_CENTRAL</th>\n",
       "    </tr>\n",
       "  </thead>\n",
       "  <tbody>\n",
       "    <tr>\n",
       "      <th>0</th>\n",
       "      <td>1</td>\n",
       "      <td>Centro Ampliado</td>\n",
       "      <td>3550308</td>\n",
       "      <td>POLYGON ((-46.67421 -23.64222, -46.67437 -23.6...</td>\n",
       "      <td>POINT (-46.679579 -23.582388)</td>\n",
       "    </tr>\n",
       "    <tr>\n",
       "      <th>1</th>\n",
       "      <td>2</td>\n",
       "      <td>Zona Leste 1</td>\n",
       "      <td>3550308</td>\n",
       "      <td>POLYGON ((-46.57536 -23.6008, -46.57552 -23.60...</td>\n",
       "      <td>POINT (-46.542663 -23.561831)</td>\n",
       "    </tr>\n",
       "    <tr>\n",
       "      <th>2</th>\n",
       "      <td>3</td>\n",
       "      <td>Zona Leste 2</td>\n",
       "      <td>3550308</td>\n",
       "      <td>POLYGON ((-46.45643 -23.64132, -46.4565 -23.64...</td>\n",
       "      <td>POINT (-46.443353 -23.549433)</td>\n",
       "    </tr>\n",
       "    <tr>\n",
       "      <th>3</th>\n",
       "      <td>4</td>\n",
       "      <td>Zona Norte</td>\n",
       "      <td>3550308</td>\n",
       "      <td>POLYGON ((-46.67805 -23.51367, -46.67863 -23.5...</td>\n",
       "      <td>POINT (-46.673093 -23.45335)</td>\n",
       "    </tr>\n",
       "    <tr>\n",
       "      <th>4</th>\n",
       "      <td>5</td>\n",
       "      <td>Zona Sul</td>\n",
       "      <td>3550308</td>\n",
       "      <td>POLYGON ((-46.60925 -23.90462, -46.60876 -23.9...</td>\n",
       "      <td>POINT (-46.708599 -23.813758)</td>\n",
       "    </tr>\n",
       "  </tbody>\n",
       "</table>\n",
       "</div>"
      ],
      "text/plain": [
       "   ID        NOME_ZONA  MUNICIPIO_ID  \\\n",
       "0   1  Centro Ampliado       3550308   \n",
       "1   2     Zona Leste 1       3550308   \n",
       "2   3     Zona Leste 2       3550308   \n",
       "3   4       Zona Norte       3550308   \n",
       "4   5         Zona Sul       3550308   \n",
       "\n",
       "                                            geometry  \\\n",
       "0  POLYGON ((-46.67421 -23.64222, -46.67437 -23.6...   \n",
       "1  POLYGON ((-46.57536 -23.6008, -46.57552 -23.60...   \n",
       "2  POLYGON ((-46.45643 -23.64132, -46.4565 -23.64...   \n",
       "3  POLYGON ((-46.67805 -23.51367, -46.67863 -23.5...   \n",
       "4  POLYGON ((-46.60925 -23.90462, -46.60876 -23.9...   \n",
       "\n",
       "                    CORD_CENTRAL  \n",
       "0  POINT (-46.679579 -23.582388)  \n",
       "1  POINT (-46.542663 -23.561831)  \n",
       "2  POINT (-46.443353 -23.549433)  \n",
       "3   POINT (-46.673093 -23.45335)  \n",
       "4  POINT (-46.708599 -23.813758)  "
      ]
     },
     "execution_count": 46,
     "metadata": {},
     "output_type": "execute_result"
    }
   ],
   "source": [
    "# Ler os dados da tabela\n",
    "Select_TBL_Zona = read_zona_data(connection)\n",
    "Select_TBL_Zona"
   ]
  },
  {
   "cell_type": "markdown",
   "metadata": {},
   "source": [
    "##### TBL_Distrito"
   ]
  },
  {
   "cell_type": "code",
   "execution_count": 47,
   "metadata": {},
   "outputs": [
    {
     "data": {
      "text/html": [
       "<div>\n",
       "<style scoped>\n",
       "    .dataframe tbody tr th:only-of-type {\n",
       "        vertical-align: middle;\n",
       "    }\n",
       "\n",
       "    .dataframe tbody tr th {\n",
       "        vertical-align: top;\n",
       "    }\n",
       "\n",
       "    .dataframe thead th {\n",
       "        text-align: right;\n",
       "    }\n",
       "</style>\n",
       "<table border=\"1\" class=\"dataframe\">\n",
       "  <thead>\n",
       "    <tr style=\"text-align: right;\">\n",
       "      <th></th>\n",
       "      <th>CD_DIST</th>\n",
       "      <th>NM_DIST</th>\n",
       "      <th>GEOMETRY</th>\n",
       "      <th>CORD_CENTRAL</th>\n",
       "      <th>ZONA_ID</th>\n",
       "    </tr>\n",
       "  </thead>\n",
       "  <tbody>\n",
       "  </tbody>\n",
       "</table>\n",
       "</div>"
      ],
      "text/plain": [
       "Empty DataFrame\n",
       "Columns: [CD_DIST, NM_DIST, GEOMETRY, CORD_CENTRAL, ZONA_ID]\n",
       "Index: []"
      ]
     },
     "execution_count": 47,
     "metadata": {},
     "output_type": "execute_result"
    }
   ],
   "source": [
    "# Consulta SQL\n",
    "query_teste = \"SELECT * FROM TBL_DISTRITO\"\n",
    "\n",
    "# Executa a consulta e obtém os resultados em um DataFrame\n",
    "df_teste = consulta_para_dataframe(cursor, query_teste)\n",
    "df_teste"
   ]
  },
  {
   "cell_type": "code",
   "execution_count": 48,
   "metadata": {},
   "outputs": [],
   "source": [
    "# Carregar o arquivo GeoJSON usando GeoPandas\n",
    "gdf_dist = gpd.read_file(DIR_DISTRITOS_SP)"
   ]
  },
  {
   "cell_type": "code",
   "execution_count": 49,
   "metadata": {},
   "outputs": [],
   "source": [
    "# selecionando apenas as colunas de interesse\n",
    "Select_TBL_Zona_selecao = Select_TBL_Zona[['ID', 'NOME_ZONA']].rename(columns={'ID': 'ID_ZONA'})"
   ]
  },
  {
   "cell_type": "code",
   "execution_count": 50,
   "metadata": {},
   "outputs": [],
   "source": [
    "# Fazer o merge das duas tabelas usando a coluna 'Zona'\n",
    "gdf_dist_merged = gdf_dist.merge(Select_TBL_Zona_selecao, on='NOME_ZONA', how='left')"
   ]
  },
  {
   "cell_type": "code",
   "execution_count": 51,
   "metadata": {},
   "outputs": [
    {
     "name": "stdout",
     "output_type": "stream",
     "text": [
      "    CD_MUN     NM_MUN    CD_DIST            NM_DIST  \\\n",
      "0  3550308  São Paulo  355030801          Água Rasa   \n",
      "1  3550308  São Paulo  355030802  Alto de Pinheiros   \n",
      "2  3550308  São Paulo  355030803         Anhanguera   \n",
      "3  3550308  São Paulo  355030804         Aricanduva   \n",
      "4  3550308  São Paulo  355030805        Artur Alvim   \n",
      "\n",
      "                    CORD_CENTRAL        NOME_ZONA  \\\n",
      "0   POINT (-46.571849 -23.56688)     Zona Leste 1   \n",
      "1  POINT (-46.711886 -23.547577)  Centro Ampliado   \n",
      "2  POINT (-46.792944 -23.430469)       Zona Norte   \n",
      "3  POINT (-46.515679 -23.573925)     Zona Leste 1   \n",
      "4  POINT (-46.485831 -23.540212)     Zona Leste 1   \n",
      "\n",
      "                                            geometry  ID_ZONA  \n",
      "0  POLYGON ((-46.57207 -23.57948, -46.57212 -23.5...        2  \n",
      "1  POLYGON ((-46.69581 -23.55327, -46.69604 -23.5...        1  \n",
      "2  POLYGON ((-46.76157 -23.43178, -46.76157 -23.4...        4  \n",
      "3  POLYGON ((-46.51779 -23.58627, -46.51786 -23.5...        2  \n",
      "4  POLYGON ((-46.48574 -23.55441, -46.48574 -23.5...        2  \n",
      "CD_MUN            object\n",
      "NM_MUN            object\n",
      "CD_DIST           object\n",
      "NM_DIST           object\n",
      "CORD_CENTRAL      object\n",
      "NOME_ZONA         object\n",
      "geometry        geometry\n",
      "ID_ZONA            int64\n",
      "dtype: object\n"
     ]
    }
   ],
   "source": [
    "# Verifique o conteúdo do GeoDataFrame\n",
    "print(gdf_dist_merged.head())\n",
    "print(gdf_dist_merged.dtypes)"
   ]
  },
  {
   "cell_type": "code",
   "execution_count": 52,
   "metadata": {},
   "outputs": [],
   "source": [
    "def insert_distrito_data(connection, gdf_dist_merged):\n",
    "    cursor = connection.cursor()\n",
    "\n",
    "    try:\n",
    "        for _, row in gdf_dist_merged.iterrows():\n",
    "            cd_dist = row['CD_DIST']\n",
    "            nm_dist = row['NM_DIST']\n",
    "            zona_id = row['ID_ZONA']\n",
    "\n",
    "            # Certifique-se de que as colunas 'geometry' e 'CORD_CENTRAL' são objetos Shapely\n",
    "            if isinstance(row['geometry'], str):\n",
    "                geom = loads(row['geometry'])\n",
    "            else:\n",
    "                geom = row['geometry']\n",
    "\n",
    "            if isinstance(row['CORD_CENTRAL'], str):\n",
    "                central_geom = loads(row['CORD_CENTRAL'])\n",
    "            else:\n",
    "                central_geom = row['CORD_CENTRAL']\n",
    "\n",
    "            # Converta para WKT para ser utilizado no PL/SQL\n",
    "            geometry_wkt = geom.wkt\n",
    "            cor_central_wkt = central_geom.wkt if central_geom else None\n",
    "\n",
    "            # Bloco PL/SQL para inserir a geometria no Oracle\n",
    "            plsql = \"\"\"\n",
    "            DECLARE\n",
    "                geom SDO_GEOMETRY;\n",
    "                central_geom SDO_GEOMETRY;\n",
    "            BEGIN\n",
    "                geom := SDO_GEOMETRY(:geometry_wkt, 4326);\n",
    "                IF :cor_central_wkt IS NOT NULL THEN\n",
    "                    central_geom := SDO_GEOMETRY(:cor_central_wkt, 4326);\n",
    "                ELSE\n",
    "                    central_geom := NULL;\n",
    "                END IF;\n",
    "                INSERT INTO TBL_DISTRITO (CD_DIST, NM_DIST, GEOMETRY, CORD_CENTRAL, ZONA_ID)\n",
    "                VALUES (:cd_dist, :nm_dist, geom, central_geom, :zona_id);\n",
    "            END;\n",
    "            \"\"\"\n",
    "            cursor.execute(plsql, cd_dist=cd_dist, nm_dist=nm_dist, \n",
    "                           geometry_wkt=geometry_wkt, cor_central_wkt=cor_central_wkt,\n",
    "                           zona_id=zona_id)\n",
    "\n",
    "        connection.commit()\n",
    "        print(\"Dados inseridos com sucesso na tabela TBL_DISTRITO!\")\n",
    "\n",
    "    except cx_Oracle.DatabaseError as e:\n",
    "        error, = e.args\n",
    "        print(f\"Erro ao inserir dados na TBL_DISTRITO: {error.message}\")\n",
    "        connection.rollback()\n",
    "        print(\"Alterações desfeitas (rollback) devido ao erro.\")\n",
    "\n",
    "    except Exception as e:\n",
    "        print(f\"Ocorreu um erro inesperado: {str(e)}\")\n",
    "        connection.rollback()\n",
    "        print(\"Alterações desfeitas (rollback) devido ao erro.\")\n",
    "\n",
    "    finally:\n",
    "        if cursor:\n",
    "            cursor.close()\n",
    "        print(\"Cursor fechado.\")"
   ]
  },
  {
   "cell_type": "code",
   "execution_count": 53,
   "metadata": {},
   "outputs": [
    {
     "name": "stdout",
     "output_type": "stream",
     "text": [
      "Dados inseridos com sucesso na tabela TBL_DISTRITO!\n",
      "Cursor fechado.\n"
     ]
    }
   ],
   "source": [
    "if connection:\n",
    "    insert_distrito_data(connection, gdf_dist_merged)"
   ]
  },
  {
   "cell_type": "markdown",
   "metadata": {},
   "source": [
    "#### INSERT DADOS - TBL_PREVISAO"
   ]
  },
  {
   "cell_type": "code",
   "execution_count": 54,
   "metadata": {},
   "outputs": [],
   "source": [
    "from funcoes_utilidades import extract_and_map_excel_data, find_nearest_zone, extract_and_convert_coordinates, insert_data_to_tbl_previsao, process_all_excel_files"
   ]
  },
  {
   "cell_type": "code",
   "execution_count": 55,
   "metadata": {},
   "outputs": [],
   "source": [
    "# Selecionando coordenda central de cada zona\n",
    "df_zona = gpd.GeoDataFrame(Select_TBL_Zona, geometry='CORD_CENTRAL')"
   ]
  },
  {
   "cell_type": "code",
   "execution_count": 56,
   "metadata": {},
   "outputs": [
    {
     "name": "stdout",
     "output_type": "stream",
     "text": [
      "Processando arquivo: c:\\Users\\Lenovo\\OneDrive\\Área de Trabalho\\Enterprise Challenge\\VigilumSP\\Coleta de Dados\\PORTAL_INMET\\DADOS_TRATADOS_CIDADE_SP\\Corrected_INMET_SE_SP_A701_SAO PAULO - MIRANTE_01-01-2007_A_31-12-2007.xlsx\n",
      "8760 registros inseridos com sucesso na tabela TBL_Previsao.\n",
      "Processando arquivo: c:\\Users\\Lenovo\\OneDrive\\Área de Trabalho\\Enterprise Challenge\\VigilumSP\\Coleta de Dados\\PORTAL_INMET\\DADOS_TRATADOS_CIDADE_SP\\Corrected_INMET_SE_SP_A701_SAO PAULO - MIRANTE_01-01-2009_A_31-12-2009.xlsx\n",
      "8760 registros inseridos com sucesso na tabela TBL_Previsao.\n",
      "Processando arquivo: c:\\Users\\Lenovo\\OneDrive\\Área de Trabalho\\Enterprise Challenge\\VigilumSP\\Coleta de Dados\\PORTAL_INMET\\DADOS_TRATADOS_CIDADE_SP\\Corrected_INMET_SE_SP_A701_SAO PAULO - MIRANTE_01-01-2010_A_31-12-2010.xlsx\n",
      "8760 registros inseridos com sucesso na tabela TBL_Previsao.\n",
      "Processando arquivo: c:\\Users\\Lenovo\\OneDrive\\Área de Trabalho\\Enterprise Challenge\\VigilumSP\\Coleta de Dados\\PORTAL_INMET\\DADOS_TRATADOS_CIDADE_SP\\Corrected_INMET_SE_SP_A701_SAO PAULO - MIRANTE_01-01-2011_A_31-12-2011.xlsx\n",
      "8760 registros inseridos com sucesso na tabela TBL_Previsao.\n",
      "Processando arquivo: c:\\Users\\Lenovo\\OneDrive\\Área de Trabalho\\Enterprise Challenge\\VigilumSP\\Coleta de Dados\\PORTAL_INMET\\DADOS_TRATADOS_CIDADE_SP\\Corrected_INMET_SE_SP_A701_SAO PAULO - MIRANTE_01-01-2012_A_31-12-2012.xlsx\n",
      "8784 registros inseridos com sucesso na tabela TBL_Previsao.\n",
      "Processando arquivo: c:\\Users\\Lenovo\\OneDrive\\Área de Trabalho\\Enterprise Challenge\\VigilumSP\\Coleta de Dados\\PORTAL_INMET\\DADOS_TRATADOS_CIDADE_SP\\Corrected_INMET_SE_SP_A701_SAO PAULO - MIRANTE_01-01-2013_A_31-12-2013.xlsx\n",
      "8760 registros inseridos com sucesso na tabela TBL_Previsao.\n",
      "Processando arquivo: c:\\Users\\Lenovo\\OneDrive\\Área de Trabalho\\Enterprise Challenge\\VigilumSP\\Coleta de Dados\\PORTAL_INMET\\DADOS_TRATADOS_CIDADE_SP\\Corrected_INMET_SE_SP_A701_SAO PAULO - MIRANTE_01-01-2014_A_31-12-2014.xlsx\n",
      "8760 registros inseridos com sucesso na tabela TBL_Previsao.\n",
      "Processando arquivo: c:\\Users\\Lenovo\\OneDrive\\Área de Trabalho\\Enterprise Challenge\\VigilumSP\\Coleta de Dados\\PORTAL_INMET\\DADOS_TRATADOS_CIDADE_SP\\Corrected_INMET_SE_SP_A701_SAO PAULO - MIRANTE_01-01-2015_A_31-12-2015.xlsx\n",
      "8760 registros inseridos com sucesso na tabela TBL_Previsao.\n",
      "Processando arquivo: c:\\Users\\Lenovo\\OneDrive\\Área de Trabalho\\Enterprise Challenge\\VigilumSP\\Coleta de Dados\\PORTAL_INMET\\DADOS_TRATADOS_CIDADE_SP\\Corrected_INMET_SE_SP_A701_SAO PAULO - MIRANTE_01-01-2016_A_31-12-2016.xlsx\n",
      "8784 registros inseridos com sucesso na tabela TBL_Previsao.\n",
      "Processando arquivo: c:\\Users\\Lenovo\\OneDrive\\Área de Trabalho\\Enterprise Challenge\\VigilumSP\\Coleta de Dados\\PORTAL_INMET\\DADOS_TRATADOS_CIDADE_SP\\Corrected_INMET_SE_SP_A701_SAO PAULO - MIRANTE_01-01-2017_A_31-12-2017.xlsx\n",
      "8760 registros inseridos com sucesso na tabela TBL_Previsao.\n",
      "Processando arquivo: c:\\Users\\Lenovo\\OneDrive\\Área de Trabalho\\Enterprise Challenge\\VigilumSP\\Coleta de Dados\\PORTAL_INMET\\DADOS_TRATADOS_CIDADE_SP\\Corrected_INMET_SE_SP_A701_SAO PAULO - MIRANTE_01-01-2018_A_31-12-2018.xlsx\n",
      "8760 registros inseridos com sucesso na tabela TBL_Previsao.\n",
      "Processando arquivo: c:\\Users\\Lenovo\\OneDrive\\Área de Trabalho\\Enterprise Challenge\\VigilumSP\\Coleta de Dados\\PORTAL_INMET\\DADOS_TRATADOS_CIDADE_SP\\Corrected_INMET_SE_SP_A701_SAO PAULO - MIRANTE_25-07-2006_A_31-12-2006.xlsx\n",
      "3840 registros inseridos com sucesso na tabela TBL_Previsao.\n",
      "Processando arquivo: c:\\Users\\Lenovo\\OneDrive\\Área de Trabalho\\Enterprise Challenge\\VigilumSP\\Coleta de Dados\\PORTAL_INMET\\DADOS_TRATADOS_CIDADE_SP\\Corrected_INMET_SE_SP_A771_SAO PAULO - INTERLAGOS_14-03-2018_A_31-12-2018.xlsx\n",
      "7032 registros inseridos com sucesso na tabela TBL_Previsao.\n",
      "Processando arquivo: c:\\Users\\Lenovo\\OneDrive\\Área de Trabalho\\Enterprise Challenge\\VigilumSP\\Coleta de Dados\\PORTAL_INMET\\DADOS_TRATADOS_CIDADE_SP\\INMET_SE_SP_A701_SAO PAULO - MIRANTE_01-01-2007_A_31-12-2007.xlsx\n",
      "8760 registros inseridos com sucesso na tabela TBL_Previsao.\n",
      "Processando arquivo: c:\\Users\\Lenovo\\OneDrive\\Área de Trabalho\\Enterprise Challenge\\VigilumSP\\Coleta de Dados\\PORTAL_INMET\\DADOS_TRATADOS_CIDADE_SP\\INMET_SE_SP_A701_SAO PAULO - MIRANTE_01-01-2009_A_31-12-2009.xlsx\n",
      "8760 registros inseridos com sucesso na tabela TBL_Previsao.\n",
      "Processando arquivo: c:\\Users\\Lenovo\\OneDrive\\Área de Trabalho\\Enterprise Challenge\\VigilumSP\\Coleta de Dados\\PORTAL_INMET\\DADOS_TRATADOS_CIDADE_SP\\INMET_SE_SP_A701_SAO PAULO - MIRANTE_01-01-2010_A_31-12-2010.xlsx\n",
      "8760 registros inseridos com sucesso na tabela TBL_Previsao.\n",
      "Processando arquivo: c:\\Users\\Lenovo\\OneDrive\\Área de Trabalho\\Enterprise Challenge\\VigilumSP\\Coleta de Dados\\PORTAL_INMET\\DADOS_TRATADOS_CIDADE_SP\\INMET_SE_SP_A701_SAO PAULO - MIRANTE_01-01-2011_A_31-12-2011.xlsx\n",
      "8760 registros inseridos com sucesso na tabela TBL_Previsao.\n",
      "Processando arquivo: c:\\Users\\Lenovo\\OneDrive\\Área de Trabalho\\Enterprise Challenge\\VigilumSP\\Coleta de Dados\\PORTAL_INMET\\DADOS_TRATADOS_CIDADE_SP\\INMET_SE_SP_A701_SAO PAULO - MIRANTE_01-01-2012_A_31-12-2012.xlsx\n",
      "8784 registros inseridos com sucesso na tabela TBL_Previsao.\n",
      "Processando arquivo: c:\\Users\\Lenovo\\OneDrive\\Área de Trabalho\\Enterprise Challenge\\VigilumSP\\Coleta de Dados\\PORTAL_INMET\\DADOS_TRATADOS_CIDADE_SP\\INMET_SE_SP_A701_SAO PAULO - MIRANTE_01-01-2013_A_31-12-2013.xlsx\n",
      "8760 registros inseridos com sucesso na tabela TBL_Previsao.\n",
      "Processando arquivo: c:\\Users\\Lenovo\\OneDrive\\Área de Trabalho\\Enterprise Challenge\\VigilumSP\\Coleta de Dados\\PORTAL_INMET\\DADOS_TRATADOS_CIDADE_SP\\INMET_SE_SP_A701_SAO PAULO - MIRANTE_01-01-2014_A_31-12-2014.xlsx\n",
      "8760 registros inseridos com sucesso na tabela TBL_Previsao.\n",
      "Processando arquivo: c:\\Users\\Lenovo\\OneDrive\\Área de Trabalho\\Enterprise Challenge\\VigilumSP\\Coleta de Dados\\PORTAL_INMET\\DADOS_TRATADOS_CIDADE_SP\\INMET_SE_SP_A701_SAO PAULO - MIRANTE_01-01-2015_A_31-12-2015.xlsx\n",
      "8760 registros inseridos com sucesso na tabela TBL_Previsao.\n",
      "Processando arquivo: c:\\Users\\Lenovo\\OneDrive\\Área de Trabalho\\Enterprise Challenge\\VigilumSP\\Coleta de Dados\\PORTAL_INMET\\DADOS_TRATADOS_CIDADE_SP\\INMET_SE_SP_A701_SAO PAULO - MIRANTE_01-01-2016_A_31-12-2016.xlsx\n",
      "8784 registros inseridos com sucesso na tabela TBL_Previsao.\n",
      "Processando arquivo: c:\\Users\\Lenovo\\OneDrive\\Área de Trabalho\\Enterprise Challenge\\VigilumSP\\Coleta de Dados\\PORTAL_INMET\\DADOS_TRATADOS_CIDADE_SP\\INMET_SE_SP_A701_SAO PAULO - MIRANTE_01-01-2017_A_31-12-2017.xlsx\n",
      "8760 registros inseridos com sucesso na tabela TBL_Previsao.\n",
      "Processando arquivo: c:\\Users\\Lenovo\\OneDrive\\Área de Trabalho\\Enterprise Challenge\\VigilumSP\\Coleta de Dados\\PORTAL_INMET\\DADOS_TRATADOS_CIDADE_SP\\INMET_SE_SP_A701_SAO PAULO - MIRANTE_01-01-2018_A_31-12-2018.xlsx\n",
      "8760 registros inseridos com sucesso na tabela TBL_Previsao.\n",
      "Processando arquivo: c:\\Users\\Lenovo\\OneDrive\\Área de Trabalho\\Enterprise Challenge\\VigilumSP\\Coleta de Dados\\PORTAL_INMET\\DADOS_TRATADOS_CIDADE_SP\\INMET_SE_SP_A701_SAO PAULO - MIRANTE_01-01-2019_A_31-12-2019.xlsx\n",
      "8760 registros inseridos com sucesso na tabela TBL_Previsao.\n",
      "Processando arquivo: c:\\Users\\Lenovo\\OneDrive\\Área de Trabalho\\Enterprise Challenge\\VigilumSP\\Coleta de Dados\\PORTAL_INMET\\DADOS_TRATADOS_CIDADE_SP\\INMET_SE_SP_A701_SAO PAULO - MIRANTE_01-01-2020_A_31-12-2020.xlsx\n",
      "8784 registros inseridos com sucesso na tabela TBL_Previsao.\n",
      "Processando arquivo: c:\\Users\\Lenovo\\OneDrive\\Área de Trabalho\\Enterprise Challenge\\VigilumSP\\Coleta de Dados\\PORTAL_INMET\\DADOS_TRATADOS_CIDADE_SP\\INMET_SE_SP_A701_SAO PAULO - MIRANTE_01-01-2021_A_31-12-2021.xlsx\n",
      "8760 registros inseridos com sucesso na tabela TBL_Previsao.\n",
      "Processando arquivo: c:\\Users\\Lenovo\\OneDrive\\Área de Trabalho\\Enterprise Challenge\\VigilumSP\\Coleta de Dados\\PORTAL_INMET\\DADOS_TRATADOS_CIDADE_SP\\INMET_SE_SP_A701_SAO PAULO - MIRANTE_01-01-2022_A_31-12-2022.xlsx\n",
      "8760 registros inseridos com sucesso na tabela TBL_Previsao.\n",
      "Processando arquivo: c:\\Users\\Lenovo\\OneDrive\\Área de Trabalho\\Enterprise Challenge\\VigilumSP\\Coleta de Dados\\PORTAL_INMET\\DADOS_TRATADOS_CIDADE_SP\\INMET_SE_SP_A701_SAO PAULO - MIRANTE_01-01-2023_A_31-12-2023.xlsx\n",
      "8760 registros inseridos com sucesso na tabela TBL_Previsao.\n",
      "Processando arquivo: c:\\Users\\Lenovo\\OneDrive\\Área de Trabalho\\Enterprise Challenge\\VigilumSP\\Coleta de Dados\\PORTAL_INMET\\DADOS_TRATADOS_CIDADE_SP\\INMET_SE_SP_A701_SAO PAULO - MIRANTE_01-01-2024_A_31-07-2024.xlsx\n",
      "5112 registros inseridos com sucesso na tabela TBL_Previsao.\n",
      "Processando arquivo: c:\\Users\\Lenovo\\OneDrive\\Área de Trabalho\\Enterprise Challenge\\VigilumSP\\Coleta de Dados\\PORTAL_INMET\\DADOS_TRATADOS_CIDADE_SP\\INMET_SE_SP_A701_SAO PAULO - MIRANTE_25-07-2006_A_31-12-2006.xlsx\n",
      "3840 registros inseridos com sucesso na tabela TBL_Previsao.\n",
      "Processando arquivo: c:\\Users\\Lenovo\\OneDrive\\Área de Trabalho\\Enterprise Challenge\\VigilumSP\\Coleta de Dados\\PORTAL_INMET\\DADOS_TRATADOS_CIDADE_SP\\INMET_SE_SP_A771_SAO PAULO - INTERLAGOS_01-01-2019_A_31-12-2019.xlsx\n",
      "8760 registros inseridos com sucesso na tabela TBL_Previsao.\n",
      "Processando arquivo: c:\\Users\\Lenovo\\OneDrive\\Área de Trabalho\\Enterprise Challenge\\VigilumSP\\Coleta de Dados\\PORTAL_INMET\\DADOS_TRATADOS_CIDADE_SP\\INMET_SE_SP_A771_SAO PAULO - INTERLAGOS_01-01-2020_A_31-12-2020.xlsx\n",
      "8784 registros inseridos com sucesso na tabela TBL_Previsao.\n",
      "Processando arquivo: c:\\Users\\Lenovo\\OneDrive\\Área de Trabalho\\Enterprise Challenge\\VigilumSP\\Coleta de Dados\\PORTAL_INMET\\DADOS_TRATADOS_CIDADE_SP\\INMET_SE_SP_A771_SAO PAULO - INTERLAGOS_01-01-2021_A_31-12-2021.xlsx\n",
      "8760 registros inseridos com sucesso na tabela TBL_Previsao.\n",
      "Processando arquivo: c:\\Users\\Lenovo\\OneDrive\\Área de Trabalho\\Enterprise Challenge\\VigilumSP\\Coleta de Dados\\PORTAL_INMET\\DADOS_TRATADOS_CIDADE_SP\\INMET_SE_SP_A771_SAO PAULO - INTERLAGOS_01-01-2022_A_31-12-2022.xlsx\n",
      "8760 registros inseridos com sucesso na tabela TBL_Previsao.\n",
      "Processando arquivo: c:\\Users\\Lenovo\\OneDrive\\Área de Trabalho\\Enterprise Challenge\\VigilumSP\\Coleta de Dados\\PORTAL_INMET\\DADOS_TRATADOS_CIDADE_SP\\INMET_SE_SP_A771_SAO PAULO - INTERLAGOS_01-01-2023_A_31-12-2023.xlsx\n",
      "8760 registros inseridos com sucesso na tabela TBL_Previsao.\n",
      "Processando arquivo: c:\\Users\\Lenovo\\OneDrive\\Área de Trabalho\\Enterprise Challenge\\VigilumSP\\Coleta de Dados\\PORTAL_INMET\\DADOS_TRATADOS_CIDADE_SP\\INMET_SE_SP_A771_SAO PAULO - INTERLAGOS_01-01-2024_A_31-07-2024.xlsx\n",
      "5112 registros inseridos com sucesso na tabela TBL_Previsao.\n",
      "Processando arquivo: c:\\Users\\Lenovo\\OneDrive\\Área de Trabalho\\Enterprise Challenge\\VigilumSP\\Coleta de Dados\\PORTAL_INMET\\DADOS_TRATADOS_CIDADE_SP\\INMET_SE_SP_A771_SAO PAULO - INTERLAGOS_14-03-2018_A_31-12-2018.xlsx\n",
      "7032 registros inseridos com sucesso na tabela TBL_Previsao.\n",
      "Processamento concluído para todos os arquivos.\n"
     ]
    }
   ],
   "source": [
    "# Processar todos os arquivos Excel no diretório especificado\n",
    "process_all_excel_files(DIR_TRATADOS_CIDADE_SP, df_zona, connection)"
   ]
  }
 ],
 "metadata": {
  "kernelspec": {
   "display_name": ".venv",
   "language": "python",
   "name": "python3"
  },
  "language_info": {
   "codemirror_mode": {
    "name": "ipython",
    "version": 3
   },
   "file_extension": ".py",
   "mimetype": "text/x-python",
   "name": "python",
   "nbconvert_exporter": "python",
   "pygments_lexer": "ipython3",
   "version": "3.11.4"
  }
 },
 "nbformat": 4,
 "nbformat_minor": 2
}
