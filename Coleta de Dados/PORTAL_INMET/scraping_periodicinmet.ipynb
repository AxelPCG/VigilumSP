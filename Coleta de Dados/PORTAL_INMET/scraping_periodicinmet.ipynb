{
 "cells": [
  {
   "cell_type": "markdown",
   "metadata": {},
   "source": [
    "### Bibliotecas"
   ]
  },
  {
   "cell_type": "code",
   "execution_count": 1,
   "metadata": {},
   "outputs": [],
   "source": [
    "from selenium import webdriver\n",
    "from selenium.webdriver.common.by import By\n",
    "from selenium.common.exceptions import NoSuchElementException, TimeoutException, WebDriverException\n",
    "from time import sleep\n",
    "import os\n",
    "import zipfile\n",
    "from datetime import date"
   ]
  },
  {
   "cell_type": "markdown",
   "metadata": {},
   "source": [
    "### Diretórios"
   ]
  },
  {
   "cell_type": "code",
   "execution_count": 50,
   "metadata": {},
   "outputs": [],
   "source": [
    "# Estrutura de diretórios\n",
    "BASE_DIR = os.getcwd()\n",
    "DIR_ARQUIVOS = os.path.join(BASE_DIR, \"DADOS_METEREOLOGICOS_ESTADO_SP\")"
   ]
  },
  {
   "cell_type": "markdown",
   "metadata": {},
   "source": [
    "### Scraping"
   ]
  },
  {
   "cell_type": "code",
   "execution_count": 51,
   "metadata": {},
   "outputs": [],
   "source": [
    "# Função para criar diretório se não existir\n",
    "def ensure_directory(directory):\n",
    "    \"\"\"\n",
    "    Verifica se o diretório existe e, caso contrário, cria-o.\n",
    "    \n",
    "    Args:\n",
    "    directory (str): Caminho do diretório a ser verificado/criado.\n",
    "    \"\"\"\n",
    "    if not os.path.exists(directory):\n",
    "        os.makedirs(directory)\n",
    "        print(f\"Diretório criado: {directory}\")\n",
    "    else:\n",
    "        print(f\"Diretório já existe: {directory}\")"
   ]
  },
  {
   "cell_type": "code",
   "execution_count": 52,
   "metadata": {},
   "outputs": [],
   "source": [
    "# Função para abrir o navegador no site da inmet\n",
    "def web_chrome():\n",
    "    try:\n",
    "        navegadoropt = webdriver.ChromeOptions()\n",
    "        navegadoropt.add_experimental_option(\"prefs\", {\n",
    "            'download.default_directory': BASE_DIR,  # Definir o diretório de download\n",
    "            \"download.prompt_for_download\": False,\n",
    "            \"download.directory_upgrade\": True\n",
    "        })\n",
    "        navegadoropt.add_argument(\"--disable-popup-blocking\")\n",
    "        navegador = webdriver.Chrome(options=navegadoropt)\n",
    "        navegador.get(\"https://portal.inmet.gov.br/dadoshistoricos\")\n",
    "        sleep(20)  # Esperar 20 segundos para garantir que a página carregue completamente\n",
    "        return navegador\n",
    "    except WebDriverException as e:\n",
    "        print(f\"Erro ao iniciar o navegador: {e}\")\n",
    "        return None"
   ]
  },
  {
   "cell_type": "code",
   "execution_count": 53,
   "metadata": {},
   "outputs": [],
   "source": [
    "# Função para encontrar e baixar o último arquivo zip\n",
    "def baixar_ultimo_arquivo_zip(navegador):\n",
    "    if navegador is None:\n",
    "        print(\"Navegador não iniciado corretamente.\")\n",
    "        return\n",
    "    \n",
    "    try:\n",
    "        # Encontre todos os elementos <a> que possuem links para arquivos zip\n",
    "        links = navegador.find_elements(By.CSS_SELECTOR, \"article.post-preview a\")\n",
    "        \n",
    "        # Verifique se encontrou algum link\n",
    "        if not links:\n",
    "            print(\"Nenhum link encontrado na página.\")\n",
    "            return\n",
    "        \n",
    "        # O último link na lista deve ser o link mais recente\n",
    "        ultimo_link = links[-1]\n",
    "        \n",
    "        # Clique no último link para iniciar o download\n",
    "        ultimo_link.click()\n",
    "        print(f\"Baixando arquivo: {ultimo_link.get_attribute('href')}\")\n",
    "        sleep(10)  # Aguarde um tempo para garantir que o download seja iniciado\n",
    "        print('Arquivo baixado com sucesso!')\n",
    "        \n",
    "    except NoSuchElementException as e:\n",
    "        print(f\"Erro ao localizar elementos na página: {e}\")\n",
    "    except TimeoutException as e:\n",
    "        print(f\"Tempo de espera excedido: {e}\")\n",
    "    except WebDriverException as e:\n",
    "        print(f\"Erro no WebDriver: {e}\")\n",
    "    finally:\n",
    "        # Fechar o navegador após o download, mesmo que ocorra um erro\n",
    "        navegador.quit()"
   ]
  },
  {
   "cell_type": "code",
   "execution_count": 54,
   "metadata": {},
   "outputs": [],
   "source": [
    "# Função para extrair o arquivo ZIP para uma pasta com o mesmo nome do arquivo ZIP\n",
    "def extrair_arquivo_zip(caminho_arquivo_zip, destino):\n",
    "    try:\n",
    "        # Nome da pasta será o nome do arquivo .zip sem a extensão\n",
    "        nome_pasta = os.path.splitext(os.path.basename(caminho_arquivo_zip))[0]\n",
    "        caminho_pasta_destino = os.path.join(destino, nome_pasta)\n",
    "        \n",
    "        # Criar a pasta de destino se não existir\n",
    "        if not os.path.exists(caminho_pasta_destino):\n",
    "            os.makedirs(caminho_pasta_destino)\n",
    "        \n",
    "        # Extrair os arquivos para a pasta criada\n",
    "        with zipfile.ZipFile(caminho_arquivo_zip, 'r') as zip_ref:\n",
    "            zip_ref.extractall(caminho_pasta_destino)\n",
    "        print(f\"Arquivo {caminho_arquivo_zip} extraído com sucesso para {caminho_pasta_destino}.\")\n",
    "    except zipfile.BadZipFile as e:\n",
    "        print(f\"Erro ao extrair {caminho_arquivo_zip}: {e}\")\n",
    "    except Exception as e:\n",
    "        print(f\"Ocorreu um erro ao extrair {caminho_arquivo_zip}: {e}\")"
   ]
  },
  {
   "cell_type": "code",
   "execution_count": 55,
   "metadata": {},
   "outputs": [],
   "source": [
    "def main():\n",
    "    ensure_directory(DIR_ARQUIVOS)\n",
    "    \n",
    "    # iniciando processo:\n",
    "    navegador = web_chrome()\n",
    "    baixar_ultimo_arquivo_zip(navegador)\n",
    "    \n",
    "    ano_atual = date.today().year\n",
    "    ano_atual = str(date.today().year)\n",
    "    ano_atual_arquivo = ano_atual+'.zip'\n",
    "    caminho_arquivo = os.path.join(BASE_DIR, ano_atual_arquivo)\n",
    "    \n",
    "    #Extrai arquivo na pasta\n",
    "    extrair_arquivo_zip(caminho_arquivo, DIR_ARQUIVOS)"
   ]
  },
  {
   "cell_type": "code",
   "execution_count": 56,
   "metadata": {},
   "outputs": [
    {
     "name": "stdout",
     "output_type": "stream",
     "text": [
      "Diretório criado: c:\\Users\\axel.chepanski\\Challenge\\VigilumSP\\Coleta de Dados\\PORTAL_INMET\\DADOS_METEREOLOGICOS_ESTADO_SP\n",
      "Baixando arquivo: https://portal.inmet.gov.br/uploads/dadoshistoricos/2024.zip\n",
      "Arquivo baixado com sucesso!\n",
      "Arquivo c:\\Users\\axel.chepanski\\Challenge\\VigilumSP\\Coleta de Dados\\PORTAL_INMET\\2024.zip extraído com sucesso para c:\\Users\\axel.chepanski\\Challenge\\VigilumSP\\Coleta de Dados\\PORTAL_INMET\\DADOS_METEREOLOGICOS_ESTADO_SP\\2024.\n"
     ]
    }
   ],
   "source": [
    "if __name__ == \"__main__\":\n",
    "    main()"
   ]
  }
 ],
 "metadata": {
  "kernelspec": {
   "display_name": ".venv",
   "language": "python",
   "name": "python3"
  },
  "language_info": {
   "codemirror_mode": {
    "name": "ipython",
    "version": 3
   },
   "file_extension": ".py",
   "mimetype": "text/x-python",
   "name": "python",
   "nbconvert_exporter": "python",
   "pygments_lexer": "ipython3",
   "version": "3.11.4"
  }
 },
 "nbformat": 4,
 "nbformat_minor": 2
}
