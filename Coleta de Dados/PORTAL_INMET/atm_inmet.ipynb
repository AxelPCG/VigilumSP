{
 "cells": [
  {
   "cell_type": "markdown",
   "metadata": {},
   "source": [
    "### Bibliotecas"
   ]
  },
  {
   "cell_type": "code",
   "execution_count": 39,
   "metadata": {},
   "outputs": [],
   "source": [
    "import os\n",
    "import pandas as pd\n",
    "import datetime as dt"
   ]
  },
  {
   "cell_type": "markdown",
   "metadata": {},
   "source": [
    "### Diretórios"
   ]
  },
  {
   "cell_type": "code",
   "execution_count": 79,
   "metadata": {},
   "outputs": [],
   "source": [
    "BASE_DIR = os.getcwd()\n",
    "DIR_ARQUIVOS = os.path.join(BASE_DIR, \"DADOS_METEREOLOGICOS_ESTADO_SP\")\n",
    "DIR_TRATADOS = os.path.join(BASE_DIR, \"DADOS_TRATADOS\")\n",
    "DIR_TESTES = os.path.join(DIR_ARQUIVOS, '2024')"
   ]
  },
  {
   "cell_type": "markdown",
   "metadata": {},
   "source": [
    "### Filtro de dados"
   ]
  },
  {
   "cell_type": "code",
   "execution_count": 83,
   "metadata": {},
   "outputs": [],
   "source": [
    "# Função para criar diretório se não existir\n",
    "def ensure_directory(directory):\n",
    "    \"\"\"\n",
    "    Verifica se o diretório existe e, caso contrário, cria-o.\n",
    "    \n",
    "    Args:\n",
    "    directory (str): Caminho do diretório a ser verificado/criado.\n",
    "    \"\"\"\n",
    "    if not os.path.exists(directory):\n",
    "        os.makedirs(directory)\n",
    "        print(f\"Diretório criado: {directory}\")\n",
    "    else:\n",
    "        print(f\"Diretório já existe: {directory}\")"
   ]
  },
  {
   "cell_type": "code",
   "execution_count": 84,
   "metadata": {},
   "outputs": [],
   "source": [
    "def load_and_split(file_path):\n",
    "    \"\"\"\n",
    "    Carrega a planilha e separa o cabeçalho extra dos dados principais.\n",
    "    \n",
    "    Args:\n",
    "    file_path (str): Caminho para o arquivo CSV.\n",
    "    \n",
    "    Returns:\n",
    "    tuple: DataFrames para o cabeçalho e os dados.\n",
    "    \"\"\"\n",
    "    with open(file_path, 'r', encoding='latin1') as file:\n",
    "        lines = file.readlines()\n",
    "\n",
    "    # Separar o cabeçalho extra (primeiras 8 linhas)\n",
    "    header_lines = lines[:8]\n",
    "    data_lines = lines[8:]\n",
    "\n",
    "    # Criar DataFrame para o cabeçalho\n",
    "    df_header = pd.DataFrame([line.strip().split(';') for line in header_lines])\n",
    "\n",
    "    # A primeira linha dos dados (após o cabeçalho) deve conter os nomes das colunas\n",
    "    column_names = data_lines[0].strip().split(';')\n",
    "    df_data = pd.DataFrame([line.strip().split(';') for line in data_lines[1:]], columns=column_names)\n",
    "    \n",
    "    # Remover colunas vazias\n",
    "    df_data = df_data.dropna(axis=1, how='all')\n",
    "    try:\n",
    "        df_data = df_data.drop(columns='')\n",
    "    except:\n",
    "        pass\n",
    "\n",
    "    return df_header, df_data"
   ]
  },
  {
   "cell_type": "code",
   "execution_count": 85,
   "metadata": {},
   "outputs": [],
   "source": [
    "def format_numeric_columns(df):\n",
    "    \"\"\"\n",
    "    Formata as colunas numéricas, substituindo vírgulas por pontos e convertendo para float.\n",
    "    \n",
    "    Args:\n",
    "    df (DataFrame): DataFrame contendo os dados a serem formatados.\n",
    "    \n",
    "    Returns:\n",
    "    DataFrame: DataFrame com colunas numéricas formatadas.\n",
    "    \"\"\"\n",
    "    cols_to_convert = df.columns.difference(['Data', 'Hora UTC'])\n",
    "    df[cols_to_convert] = df[cols_to_convert].replace(',', '.', regex=True)\n",
    "    df[cols_to_convert] = df[cols_to_convert].apply(pd.to_numeric, errors='coerce')\n",
    "    return df"
   ]
  },
  {
   "cell_type": "code",
   "execution_count": 86,
   "metadata": {},
   "outputs": [],
   "source": [
    "def format_time_column(df):\n",
    "    \"\"\"\n",
    "    Formata a coluna 'Hora UTC' para um objeto de hora válido.\n",
    "    \n",
    "    Args:\n",
    "    df (DataFrame): DataFrame contendo os dados a serem formatados.\n",
    "    \n",
    "    Returns:\n",
    "    DataFrame: DataFrame com a coluna 'Hora UTC' formatada.\n",
    "    \"\"\"\n",
    "    df['Hora UTC'] = df['Hora UTC'].str.replace(' UTC', '')\n",
    "    df['Hora UTC'] = pd.to_datetime(df['Hora UTC'], format='%H%M').dt.time\n",
    "    return df"
   ]
  },
  {
   "cell_type": "code",
   "execution_count": 87,
   "metadata": {},
   "outputs": [],
   "source": [
    "def save_to_excel(df_header, df_data, output_path):\n",
    "    \"\"\"\n",
    "    Salva os DataFrames formatados em um arquivo Excel com diferentes abas.\n",
    "    \n",
    "    Args:\n",
    "    df_header (DataFrame): DataFrame contendo o cabeçalho extra.\n",
    "    df_data (DataFrame): DataFrame contendo os dados formatados.\n",
    "    output_path (str): Caminho para salvar o arquivo Excel.\n",
    "    \"\"\"\n",
    "    with pd.ExcelWriter(output_path, engine='xlsxwriter') as writer:\n",
    "        df_header.to_excel(writer, sheet_name='Header', index=False, header=False)\n",
    "        df_data.to_excel(writer, sheet_name='Data', index=False)"
   ]
  },
  {
   "cell_type": "code",
   "execution_count": 88,
   "metadata": {},
   "outputs": [],
   "source": [
    "def process_file(file_path, output_path):\n",
    "    \"\"\"\n",
    "    Processa o arquivo de entrada e o transforma em uma planilha formatada.\n",
    "    \n",
    "    Args:\n",
    "    file_path (str): Caminho para o arquivo CSV de entrada.\n",
    "    output_path (str): Caminho para salvar o arquivo Excel formatado.\n",
    "    \"\"\"\n",
    "    df_header, df_data = load_and_split(file_path)\n",
    "    df_data = format_numeric_columns(df_data)\n",
    "    df_data = format_time_column(df_data)\n",
    "    save_to_excel(df_header, df_data, output_path)\n",
    "    print(\"Arquivo Excel criado com sucesso!\")"
   ]
  },
  {
   "cell_type": "code",
   "execution_count": 89,
   "metadata": {},
   "outputs": [
    {
     "name": "stdout",
     "output_type": "stream",
     "text": [
      "Diretório já existe: c:\\Users\\axel.chepanski\\Challenge\\DADOS_TRATADOS\n"
     ]
    }
   ],
   "source": [
    "# Verificar e criar diretório para arquivos tratados\n",
    "ensure_directory(DIR_TRATADOS)"
   ]
  },
  {
   "cell_type": "code",
   "execution_count": 90,
   "metadata": {},
   "outputs": [
    {
     "name": "stdout",
     "output_type": "stream",
     "text": [
      "Arquivo Excel criado com sucesso!\n"
     ]
    }
   ],
   "source": [
    "# Exemplo de uso:\n",
    "file_name = 'INMET_SE_SP_A701_SAO PAULO - MIRANTE_01-01-2024_A_31-07-2024.CSV'\n",
    "file_path = os.path.join(DIR_TESTES, file_name)\n",
    "output_file_name = 'INMET_SE_SP_A701_SAO PAULO - MIRANTE_01-01-2024_A_31-07-2024.xlsx'\n",
    "output_path = os.path.join(DIR_TRATADOS, output_file_name)\n",
    "\n",
    "process_file(file_path, output_path)"
   ]
  },
  {
   "cell_type": "code",
   "execution_count": null,
   "metadata": {},
   "outputs": [],
   "source": [
    "# Função principal para processar todos os arquivos .csv\n",
    "def process_all_files():\n",
    "    # Verificar e criar diretório principal para arquivos tratados\n",
    "    ensure_directory(DIR_TRATADOS)\n",
    "\n",
    "    # Percorrer todos os diretórios de anos\n",
    "    for year_dir in os.listdir(DIR_ARQUIVOS):\n",
    "        year_path = os.path.join(DIR_ARQUIVOS, year_dir)\n",
    "        \n",
    "        if os.path.isdir(year_path):\n",
    "            # Criar o diretório correspondente em DADOS_TRATADOS\n",
    "            year_tratado_dir = os.path.join(DIR_TRATADOS, year_dir)\n",
    "            ensure_directory(year_tratado_dir)\n",
    "\n",
    "            # Processar todos os arquivos .csv dentro do diretório do ano\n",
    "            for file_name in os.listdir(year_path):\n",
    "                if file_name.endswith('.csv'):\n",
    "                    file_path = os.path.join(year_path, file_name)\n",
    "                    output_file_name = file_name.replace('.csv', '.xlsx')\n",
    "                    output_path = os.path.join(year_tratado_dir, output_file_name)\n",
    "                    \n",
    "                    process_file(file_path, output_path)"
   ]
  },
  {
   "cell_type": "code",
   "execution_count": null,
   "metadata": {},
   "outputs": [],
   "source": [
    "# Executar a automação\n",
    "process_all_files()"
   ]
  }
 ],
 "metadata": {
  "kernelspec": {
   "display_name": "base",
   "language": "python",
   "name": "python3"
  },
  "language_info": {
   "codemirror_mode": {
    "name": "ipython",
    "version": 3
   },
   "file_extension": ".py",
   "mimetype": "text/x-python",
   "name": "python",
   "nbconvert_exporter": "python",
   "pygments_lexer": "ipython3",
   "version": "3.11.4"
  }
 },
 "nbformat": 4,
 "nbformat_minor": 2
}
