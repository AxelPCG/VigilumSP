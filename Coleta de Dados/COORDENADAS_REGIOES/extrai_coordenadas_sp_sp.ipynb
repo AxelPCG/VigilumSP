{
 "cells": [
  {
   "cell_type": "markdown",
   "metadata": {},
   "source": [
    "### Bibliotecas"
   ]
  },
  {
   "cell_type": "code",
   "execution_count": 6,
   "metadata": {},
   "outputs": [],
   "source": [
    "import os\n",
    "import pandas as pd\n",
    "import geopandas as gpd"
   ]
  },
  {
   "cell_type": "markdown",
   "metadata": {},
   "source": [
    "### Diretórios"
   ]
  },
  {
   "cell_type": "code",
   "execution_count": 2,
   "metadata": {},
   "outputs": [],
   "source": [
    "# DEFINIÇÕES DE DIRETÓRIOS\n",
    "BASE_DIR = os.getcwd()\n",
    "POLYGONS = os.path.join(BASE_DIR, \"polygons\")\n",
    "DIR_ESTADO_SP = os.path.join(POLYGONS, \"SP_UF_2022\\\\SP_UF_2022.shp\")\n",
    "DIR_MUNICIPIO_SP = os.path.join(POLYGONS, \"limite_municipal\\\\LimiteMunicipal.shp\")\n",
    "DIR_DISTRITOS_BR = os.path.join(POLYGONS, \"BR_Malha_Preliminar_Distrito_2022\\\\BR_Malha_Preliminar_Distrito_2022.gpkg\")"
   ]
  },
  {
   "cell_type": "markdown",
   "metadata": {},
   "source": [
    "### Funções Auxiliares"
   ]
  },
  {
   "cell_type": "code",
   "execution_count": 166,
   "metadata": {},
   "outputs": [],
   "source": [
    "def calcular_centroide(file_gpd):\n",
    "    \"\"\"Calcula o centróide das geometrias e retorna em WKT.\"\"\"\n",
    "    # Reprojetando as geometrias para um CRS projetado (UTM Zone 23S para São Paulo)\n",
    "    cidade_sp_proj = file_gpd.to_crs(epsg=31983)\n",
    "    \n",
    "    # Calculando o centróide no sistema de coordenadas projetadas\n",
    "    cidade_sp_proj['centroide_proj'] = cidade_sp_proj.geometry.centroid\n",
    "    \n",
    "    # Reprojetando os centroides de volta para latitude e longitude\n",
    "    file_gpd['CORD_CENTRAL'] = cidade_sp_proj['centroide_proj'].to_crs(epsg=4326).to_wkt()\n",
    "    \n",
    "    return file_gpd"
   ]
  },
  {
   "cell_type": "code",
   "execution_count": 17,
   "metadata": {},
   "outputs": [],
   "source": [
    "def salvar_dados(file_gpd, output_filepath):\n",
    "    \"\"\"Salva o GeoDataFrame em um arquivo GeoJSON.\"\"\"\n",
    "    file_gpd = file_gpd.reset_index(drop=True)\n",
    "    file_gpd.to_file(output_filepath, driver=\"GeoJSON\")"
   ]
  },
  {
   "cell_type": "markdown",
   "metadata": {},
   "source": [
    "### Extração Coordenadas"
   ]
  },
  {
   "cell_type": "markdown",
   "metadata": {},
   "source": [
    "#### Estado de SP"
   ]
  },
  {
   "cell_type": "code",
   "execution_count": 168,
   "metadata": {},
   "outputs": [
    {
     "data": {
      "text/html": [
       "<div>\n",
       "<style scoped>\n",
       "    .dataframe tbody tr th:only-of-type {\n",
       "        vertical-align: middle;\n",
       "    }\n",
       "\n",
       "    .dataframe tbody tr th {\n",
       "        vertical-align: top;\n",
       "    }\n",
       "\n",
       "    .dataframe thead th {\n",
       "        text-align: right;\n",
       "    }\n",
       "</style>\n",
       "<table border=\"1\" class=\"dataframe\">\n",
       "  <thead>\n",
       "    <tr style=\"text-align: right;\">\n",
       "      <th></th>\n",
       "      <th>CD_UF</th>\n",
       "      <th>NM_UF</th>\n",
       "      <th>SIGLA_UF</th>\n",
       "      <th>NM_REGIAO</th>\n",
       "      <th>AREA_KM2</th>\n",
       "      <th>geometry</th>\n",
       "    </tr>\n",
       "  </thead>\n",
       "  <tbody>\n",
       "    <tr>\n",
       "      <th>0</th>\n",
       "      <td>35</td>\n",
       "      <td>São Paulo</td>\n",
       "      <td>SP</td>\n",
       "      <td>Sudeste\\n</td>\n",
       "      <td>248219.485</td>\n",
       "      <td>MULTIPOLYGON (((-46.47312 -22.70498, -46.47289...</td>\n",
       "    </tr>\n",
       "  </tbody>\n",
       "</table>\n",
       "</div>"
      ],
      "text/plain": [
       "  CD_UF      NM_UF SIGLA_UF  NM_REGIAO    AREA_KM2  \\\n",
       "0    35  São Paulo       SP  Sudeste\\n  248219.485   \n",
       "\n",
       "                                            geometry  \n",
       "0  MULTIPOLYGON (((-46.47312 -22.70498, -46.47289...  "
      ]
     },
     "execution_count": 168,
     "metadata": {},
     "output_type": "execute_result"
    }
   ],
   "source": [
    "estado_sp = gpd.read_file(DIR_ESTADO_SP)\n",
    "estado_sp.head(3)"
   ]
  },
  {
   "cell_type": "code",
   "execution_count": 169,
   "metadata": {},
   "outputs": [
    {
     "data": {
      "text/html": [
       "<div>\n",
       "<style scoped>\n",
       "    .dataframe tbody tr th:only-of-type {\n",
       "        vertical-align: middle;\n",
       "    }\n",
       "\n",
       "    .dataframe tbody tr th {\n",
       "        vertical-align: top;\n",
       "    }\n",
       "\n",
       "    .dataframe thead th {\n",
       "        text-align: right;\n",
       "    }\n",
       "</style>\n",
       "<table border=\"1\" class=\"dataframe\">\n",
       "  <thead>\n",
       "    <tr style=\"text-align: right;\">\n",
       "      <th></th>\n",
       "      <th>CD_UF</th>\n",
       "      <th>NM_UF</th>\n",
       "      <th>SIGLA_UF</th>\n",
       "      <th>NM_REGIAO</th>\n",
       "      <th>AREA_KM2</th>\n",
       "      <th>geometry</th>\n",
       "      <th>CORD_CENTRAL</th>\n",
       "    </tr>\n",
       "  </thead>\n",
       "  <tbody>\n",
       "    <tr>\n",
       "      <th>0</th>\n",
       "      <td>35</td>\n",
       "      <td>São Paulo</td>\n",
       "      <td>SP</td>\n",
       "      <td>Sudeste\\n</td>\n",
       "      <td>248219.485</td>\n",
       "      <td>MULTIPOLYGON (((-46.47312 -22.70498, -46.47289...</td>\n",
       "      <td>POINT (-48.747026 -22.262308)</td>\n",
       "    </tr>\n",
       "  </tbody>\n",
       "</table>\n",
       "</div>"
      ],
      "text/plain": [
       "  CD_UF      NM_UF SIGLA_UF  NM_REGIAO    AREA_KM2  \\\n",
       "0    35  São Paulo       SP  Sudeste\\n  248219.485   \n",
       "\n",
       "                                            geometry  \\\n",
       "0  MULTIPOLYGON (((-46.47312 -22.70498, -46.47289...   \n",
       "\n",
       "                    CORD_CENTRAL  \n",
       "0  POINT (-48.747026 -22.262308)  "
      ]
     },
     "execution_count": 169,
     "metadata": {},
     "output_type": "execute_result"
    }
   ],
   "source": [
    "# Calcular centroide das coordenadas\n",
    "estado_sp = calcular_centroide(estado_sp)\n",
    "estado_sp"
   ]
  },
  {
   "cell_type": "code",
   "execution_count": 170,
   "metadata": {},
   "outputs": [],
   "source": [
    "# Salvando em GeoJSON\n",
    "salvar_dados(estado_sp, \"estado_sp.geojson\")"
   ]
  },
  {
   "cell_type": "markdown",
   "metadata": {},
   "source": [
    "#### Cidade de SP"
   ]
  },
  {
   "cell_type": "code",
   "execution_count": 171,
   "metadata": {},
   "outputs": [
    {
     "data": {
      "text/html": [
       "<div>\n",
       "<style scoped>\n",
       "    .dataframe tbody tr th:only-of-type {\n",
       "        vertical-align: middle;\n",
       "    }\n",
       "\n",
       "    .dataframe tbody tr th {\n",
       "        vertical-align: top;\n",
       "    }\n",
       "\n",
       "    .dataframe thead th {\n",
       "        text-align: right;\n",
       "    }\n",
       "</style>\n",
       "<table border=\"1\" class=\"dataframe\">\n",
       "  <thead>\n",
       "    <tr style=\"text-align: right;\">\n",
       "      <th></th>\n",
       "      <th>Cod_ibge</th>\n",
       "      <th>Municipio</th>\n",
       "      <th>GID_RA</th>\n",
       "      <th>GID_RG</th>\n",
       "      <th>RA</th>\n",
       "      <th>RG</th>\n",
       "      <th>Area_Km2</th>\n",
       "      <th>GID_RM</th>\n",
       "      <th>GID_AU</th>\n",
       "      <th>RM</th>\n",
       "      <th>AU</th>\n",
       "      <th>geometry</th>\n",
       "    </tr>\n",
       "  </thead>\n",
       "  <tbody>\n",
       "    <tr>\n",
       "      <th>0</th>\n",
       "      <td>3509908</td>\n",
       "      <td>Cananéia</td>\n",
       "      <td>16</td>\n",
       "      <td>30</td>\n",
       "      <td>RA de Registro</td>\n",
       "      <td>RG de Registro</td>\n",
       "      <td>1237.357</td>\n",
       "      <td>NaN</td>\n",
       "      <td>NaN</td>\n",
       "      <td>None</td>\n",
       "      <td>None</td>\n",
       "      <td>POLYGON ((-47.83033 -24.75638, -47.83013 -24.7...</td>\n",
       "    </tr>\n",
       "    <tr>\n",
       "      <th>1</th>\n",
       "      <td>3520426</td>\n",
       "      <td>Ilha Comprida</td>\n",
       "      <td>16</td>\n",
       "      <td>30</td>\n",
       "      <td>RA de Registro</td>\n",
       "      <td>RG de Registro</td>\n",
       "      <td>196.567</td>\n",
       "      <td>NaN</td>\n",
       "      <td>NaN</td>\n",
       "      <td>None</td>\n",
       "      <td>None</td>\n",
       "      <td>POLYGON ((-47.4366 -24.67434, -47.43638 -24.67...</td>\n",
       "    </tr>\n",
       "    <tr>\n",
       "      <th>2</th>\n",
       "      <td>3505401</td>\n",
       "      <td>Barra do Turvo</td>\n",
       "      <td>16</td>\n",
       "      <td>30</td>\n",
       "      <td>RA de Registro</td>\n",
       "      <td>RG de Registro</td>\n",
       "      <td>1007.670</td>\n",
       "      <td>NaN</td>\n",
       "      <td>NaN</td>\n",
       "      <td>None</td>\n",
       "      <td>None</td>\n",
       "      <td>POLYGON ((-48.44457 -24.65134, -48.44418 -24.6...</td>\n",
       "    </tr>\n",
       "  </tbody>\n",
       "</table>\n",
       "</div>"
      ],
      "text/plain": [
       "   Cod_ibge       Municipio  GID_RA  GID_RG              RA              RG  \\\n",
       "0   3509908        Cananéia      16      30  RA de Registro  RG de Registro   \n",
       "1   3520426   Ilha Comprida      16      30  RA de Registro  RG de Registro   \n",
       "2   3505401  Barra do Turvo      16      30  RA de Registro  RG de Registro   \n",
       "\n",
       "   Area_Km2  GID_RM  GID_AU    RM    AU  \\\n",
       "0  1237.357     NaN     NaN  None  None   \n",
       "1   196.567     NaN     NaN  None  None   \n",
       "2  1007.670     NaN     NaN  None  None   \n",
       "\n",
       "                                            geometry  \n",
       "0  POLYGON ((-47.83033 -24.75638, -47.83013 -24.7...  \n",
       "1  POLYGON ((-47.4366 -24.67434, -47.43638 -24.67...  \n",
       "2  POLYGON ((-48.44457 -24.65134, -48.44418 -24.6...  "
      ]
     },
     "execution_count": 171,
     "metadata": {},
     "output_type": "execute_result"
    }
   ],
   "source": [
    "# Visualizando dados\n",
    "cidades_br = gpd.read_file(DIR_MUNICIPIO_SP)\n",
    "cidades_br.head(3)"
   ]
  },
  {
   "cell_type": "code",
   "execution_count": 172,
   "metadata": {},
   "outputs": [],
   "source": [
    "# Selecionando apenas a cidade de sp\n",
    "cidade_sp = cidades_br[cidades_br['Municipio']=='São Paulo']"
   ]
  },
  {
   "cell_type": "code",
   "execution_count": 173,
   "metadata": {},
   "outputs": [],
   "source": [
    "# Dropando colunas e padronizando nomes\n",
    "cidade_sp = cidade_sp.drop(columns = {\"GID_RA\", \"GID_RG\", \"RA\", \"RG\", \"GID_AU\", \"GID_RM\",\"RM\", \"AU\"})\n",
    "cidade_sp = cidade_sp.rename(columns={\"Cod_ibge\": \"CD_MUN\", \"Municipio\":\"NM_MUN\", \"Area_Km2\": \"AREA_KM2\"})"
   ]
  },
  {
   "cell_type": "code",
   "execution_count": 174,
   "metadata": {},
   "outputs": [
    {
     "data": {
      "text/html": [
       "<div>\n",
       "<style scoped>\n",
       "    .dataframe tbody tr th:only-of-type {\n",
       "        vertical-align: middle;\n",
       "    }\n",
       "\n",
       "    .dataframe tbody tr th {\n",
       "        vertical-align: top;\n",
       "    }\n",
       "\n",
       "    .dataframe thead th {\n",
       "        text-align: right;\n",
       "    }\n",
       "</style>\n",
       "<table border=\"1\" class=\"dataframe\">\n",
       "  <thead>\n",
       "    <tr style=\"text-align: right;\">\n",
       "      <th></th>\n",
       "      <th>CD_MUN</th>\n",
       "      <th>NM_MUN</th>\n",
       "      <th>AREA_KM2</th>\n",
       "      <th>geometry</th>\n",
       "      <th>CORD_CENTRAL</th>\n",
       "    </tr>\n",
       "  </thead>\n",
       "  <tbody>\n",
       "    <tr>\n",
       "      <th>92</th>\n",
       "      <td>3550308</td>\n",
       "      <td>São Paulo</td>\n",
       "      <td>1521.11</td>\n",
       "      <td>POLYGON ((-46.55066 -23.35714, -46.55011 -23.3...</td>\n",
       "      <td>POINT (-46.647972 -23.649892)</td>\n",
       "    </tr>\n",
       "  </tbody>\n",
       "</table>\n",
       "</div>"
      ],
      "text/plain": [
       "     CD_MUN     NM_MUN  AREA_KM2  \\\n",
       "92  3550308  São Paulo   1521.11   \n",
       "\n",
       "                                             geometry  \\\n",
       "92  POLYGON ((-46.55066 -23.35714, -46.55011 -23.3...   \n",
       "\n",
       "                     CORD_CENTRAL  \n",
       "92  POINT (-46.647972 -23.649892)  "
      ]
     },
     "execution_count": 174,
     "metadata": {},
     "output_type": "execute_result"
    }
   ],
   "source": [
    "# Calcular centroide das coordenadas\n",
    "cidade_sp = calcular_centroide(cidade_sp)\n",
    "cidade_sp"
   ]
  },
  {
   "cell_type": "code",
   "execution_count": 175,
   "metadata": {},
   "outputs": [],
   "source": [
    "# Salvando em GeoJSON\n",
    "salvar_dados(cidade_sp, \"cidade_sp.geojson\")"
   ]
  },
  {
   "cell_type": "markdown",
   "metadata": {},
   "source": [
    "#### Distritos - Cidade SP"
   ]
  },
  {
   "cell_type": "code",
   "execution_count": 176,
   "metadata": {},
   "outputs": [
    {
     "data": {
      "text/html": [
       "<div>\n",
       "<style scoped>\n",
       "    .dataframe tbody tr th:only-of-type {\n",
       "        vertical-align: middle;\n",
       "    }\n",
       "\n",
       "    .dataframe tbody tr th {\n",
       "        vertical-align: top;\n",
       "    }\n",
       "\n",
       "    .dataframe thead th {\n",
       "        text-align: right;\n",
       "    }\n",
       "</style>\n",
       "<table border=\"1\" class=\"dataframe\">\n",
       "  <thead>\n",
       "    <tr style=\"text-align: right;\">\n",
       "      <th></th>\n",
       "      <th>CD_REGIAO</th>\n",
       "      <th>NM_REGIAO</th>\n",
       "      <th>CD_UF</th>\n",
       "      <th>NM_UF</th>\n",
       "      <th>CD_MUN</th>\n",
       "      <th>NM_MUN</th>\n",
       "      <th>CD_DIST</th>\n",
       "      <th>NM_DIST</th>\n",
       "      <th>geometry</th>\n",
       "    </tr>\n",
       "  </thead>\n",
       "  <tbody>\n",
       "    <tr>\n",
       "      <th>0</th>\n",
       "      <td>4</td>\n",
       "      <td>Sul</td>\n",
       "      <td>43</td>\n",
       "      <td>Rio Grande do Sul</td>\n",
       "      <td>None</td>\n",
       "      <td>None</td>\n",
       "      <td>None</td>\n",
       "      <td>None</td>\n",
       "      <td>POLYGON ((-52.0972 -32.16167, -52.09926 -32.15...</td>\n",
       "    </tr>\n",
       "    <tr>\n",
       "      <th>1</th>\n",
       "      <td>4</td>\n",
       "      <td>Sul</td>\n",
       "      <td>43</td>\n",
       "      <td>Rio Grande do Sul</td>\n",
       "      <td>None</td>\n",
       "      <td>None</td>\n",
       "      <td>None</td>\n",
       "      <td>None</td>\n",
       "      <td>POLYGON ((-52.62752 -32.15022, -52.62816 -32.1...</td>\n",
       "    </tr>\n",
       "    <tr>\n",
       "      <th>2</th>\n",
       "      <td>1</td>\n",
       "      <td>Norte</td>\n",
       "      <td>11</td>\n",
       "      <td>Rondônia</td>\n",
       "      <td>1100015</td>\n",
       "      <td>Alta Floresta D'Oeste</td>\n",
       "      <td>110001505</td>\n",
       "      <td>Alta Floresta D'Oeste</td>\n",
       "      <td>POLYGON ((-61.93075 -11.97349, -61.93234 -11.9...</td>\n",
       "    </tr>\n",
       "  </tbody>\n",
       "</table>\n",
       "</div>"
      ],
      "text/plain": [
       "  CD_REGIAO NM_REGIAO CD_UF              NM_UF   CD_MUN  \\\n",
       "0         4       Sul    43  Rio Grande do Sul     None   \n",
       "1         4       Sul    43  Rio Grande do Sul     None   \n",
       "2         1     Norte    11           Rondônia  1100015   \n",
       "\n",
       "                  NM_MUN    CD_DIST                NM_DIST  \\\n",
       "0                   None       None                   None   \n",
       "1                   None       None                   None   \n",
       "2  Alta Floresta D'Oeste  110001505  Alta Floresta D'Oeste   \n",
       "\n",
       "                                            geometry  \n",
       "0  POLYGON ((-52.0972 -32.16167, -52.09926 -32.15...  \n",
       "1  POLYGON ((-52.62752 -32.15022, -52.62816 -32.1...  \n",
       "2  POLYGON ((-61.93075 -11.97349, -61.93234 -11.9...  "
      ]
     },
     "execution_count": 176,
     "metadata": {},
     "output_type": "execute_result"
    }
   ],
   "source": [
    "distrito_br = gpd.read_file(DIR_DISTRITOS_BR)\n",
    "distrito_br.head(3)"
   ]
  },
  {
   "cell_type": "code",
   "execution_count": 183,
   "metadata": {},
   "outputs": [],
   "source": [
    "# Selecionando apenas os distritos de SP\n",
    "distrito_sp = distrito_br[distrito_br['NM_MUN']=='São Paulo']"
   ]
  },
  {
   "cell_type": "code",
   "execution_count": 184,
   "metadata": {},
   "outputs": [],
   "source": [
    "# Dropando colunas e padronizando nomes\n",
    "distrito_sp = distrito_sp.drop(columns = {\"CD_REGIAO\",\"NM_REGIAO\", \"CD_UF\", \"NM_UF\"})"
   ]
  },
  {
   "cell_type": "code",
   "execution_count": 186,
   "metadata": {},
   "outputs": [],
   "source": [
    "# Calcular centroide das coordenadas\n",
    "distrito_sp = calcular_centroide(distrito_sp)"
   ]
  },
  {
   "cell_type": "code",
   "execution_count": null,
   "metadata": {},
   "outputs": [],
   "source": [
    "excel_zonas_dist =pd.read_csv('Tabela_de_Distritos_e_Zonas.csv')"
   ]
  },
  {
   "cell_type": "code",
   "execution_count": null,
   "metadata": {},
   "outputs": [],
   "source": [
    "# Renomear a coluna \"Distrito\" em excel_zonas_dist para \"NM_DIST\" para que coincida com distrito_sp\n",
    "excel_zonas_dist.rename(columns={'Distrito': 'NM_DIST'}, inplace=True)"
   ]
  },
  {
   "cell_type": "code",
   "execution_count": null,
   "metadata": {},
   "outputs": [],
   "source": [
    "# Fazer o merge dos dois dataframes usando a coluna NM_DIST\n",
    "distrito_sp = distrito_sp.merge(excel_zonas_dist, on='NM_DIST', how='left')"
   ]
  },
  {
   "cell_type": "code",
   "execution_count": 33,
   "metadata": {},
   "outputs": [],
   "source": [
    "# Salvando em GeoJSON\n",
    "salvar_dados(distrito_sp, \"distrito_sp.geojson\")"
   ]
  },
  {
   "cell_type": "code",
   "execution_count": 34,
   "metadata": {},
   "outputs": [
    {
     "data": {
      "text/html": [
       "<div>\n",
       "<style scoped>\n",
       "    .dataframe tbody tr th:only-of-type {\n",
       "        vertical-align: middle;\n",
       "    }\n",
       "\n",
       "    .dataframe tbody tr th {\n",
       "        vertical-align: top;\n",
       "    }\n",
       "\n",
       "    .dataframe thead th {\n",
       "        text-align: right;\n",
       "    }\n",
       "</style>\n",
       "<table border=\"1\" class=\"dataframe\">\n",
       "  <thead>\n",
       "    <tr style=\"text-align: right;\">\n",
       "      <th></th>\n",
       "      <th>CD_MUN</th>\n",
       "      <th>NM_MUN</th>\n",
       "      <th>CD_DIST</th>\n",
       "      <th>NM_DIST</th>\n",
       "      <th>CORD_CENTRAL</th>\n",
       "      <th>NOME_ZONA</th>\n",
       "      <th>geometry</th>\n",
       "    </tr>\n",
       "  </thead>\n",
       "  <tbody>\n",
       "    <tr>\n",
       "      <th>0</th>\n",
       "      <td>3550308</td>\n",
       "      <td>São Paulo</td>\n",
       "      <td>355030801</td>\n",
       "      <td>Água Rasa</td>\n",
       "      <td>POINT (-46.571849 -23.56688)</td>\n",
       "      <td>Zona Leste 1</td>\n",
       "      <td>POLYGON ((-46.57207 -23.57948, -46.57212 -23.5...</td>\n",
       "    </tr>\n",
       "    <tr>\n",
       "      <th>1</th>\n",
       "      <td>3550308</td>\n",
       "      <td>São Paulo</td>\n",
       "      <td>355030802</td>\n",
       "      <td>Alto de Pinheiros</td>\n",
       "      <td>POINT (-46.711886 -23.547577)</td>\n",
       "      <td>Centro Ampliado</td>\n",
       "      <td>POLYGON ((-46.69581 -23.55327, -46.69604 -23.5...</td>\n",
       "    </tr>\n",
       "    <tr>\n",
       "      <th>2</th>\n",
       "      <td>3550308</td>\n",
       "      <td>São Paulo</td>\n",
       "      <td>355030803</td>\n",
       "      <td>Anhanguera</td>\n",
       "      <td>POINT (-46.792944 -23.430469)</td>\n",
       "      <td>Zona Norte</td>\n",
       "      <td>POLYGON ((-46.76157 -23.43178, -46.76157 -23.4...</td>\n",
       "    </tr>\n",
       "    <tr>\n",
       "      <th>3</th>\n",
       "      <td>3550308</td>\n",
       "      <td>São Paulo</td>\n",
       "      <td>355030804</td>\n",
       "      <td>Aricanduva</td>\n",
       "      <td>POINT (-46.515679 -23.573925)</td>\n",
       "      <td>Zona Leste 1</td>\n",
       "      <td>POLYGON ((-46.51779 -23.58627, -46.51786 -23.5...</td>\n",
       "    </tr>\n",
       "    <tr>\n",
       "      <th>4</th>\n",
       "      <td>3550308</td>\n",
       "      <td>São Paulo</td>\n",
       "      <td>355030805</td>\n",
       "      <td>Artur Alvim</td>\n",
       "      <td>POINT (-46.485831 -23.540212)</td>\n",
       "      <td>Zona Leste 1</td>\n",
       "      <td>POLYGON ((-46.48574 -23.55441, -46.48574 -23.5...</td>\n",
       "    </tr>\n",
       "    <tr>\n",
       "      <th>...</th>\n",
       "      <td>...</td>\n",
       "      <td>...</td>\n",
       "      <td>...</td>\n",
       "      <td>...</td>\n",
       "      <td>...</td>\n",
       "      <td>...</td>\n",
       "      <td>...</td>\n",
       "    </tr>\n",
       "    <tr>\n",
       "      <th>91</th>\n",
       "      <td>3550308</td>\n",
       "      <td>São Paulo</td>\n",
       "      <td>355030892</td>\n",
       "      <td>Vila Medeiros</td>\n",
       "      <td>POINT (-46.577504 -23.488749)</td>\n",
       "      <td>Zona Norte</td>\n",
       "      <td>POLYGON ((-46.57783 -23.49527, -46.57794 -23.4...</td>\n",
       "    </tr>\n",
       "    <tr>\n",
       "      <th>92</th>\n",
       "      <td>3550308</td>\n",
       "      <td>São Paulo</td>\n",
       "      <td>355030893</td>\n",
       "      <td>Vila Prudente</td>\n",
       "      <td>POINT (-46.572696 -23.592558)</td>\n",
       "      <td>Zona Leste 1</td>\n",
       "      <td>POLYGON ((-46.5748 -23.60107, -46.575 -23.6009...</td>\n",
       "    </tr>\n",
       "    <tr>\n",
       "      <th>93</th>\n",
       "      <td>3550308</td>\n",
       "      <td>São Paulo</td>\n",
       "      <td>355030894</td>\n",
       "      <td>Vila Sônia</td>\n",
       "      <td>POINT (-46.739183 -23.59938)</td>\n",
       "      <td>Centro Ampliado</td>\n",
       "      <td>POLYGON ((-46.72791 -23.61149, -46.72798 -23.6...</td>\n",
       "    </tr>\n",
       "    <tr>\n",
       "      <th>94</th>\n",
       "      <td>3550308</td>\n",
       "      <td>São Paulo</td>\n",
       "      <td>355030895</td>\n",
       "      <td>São Domingos</td>\n",
       "      <td>POINT (-46.747181 -23.493431)</td>\n",
       "      <td>Zona Norte</td>\n",
       "      <td>POLYGON ((-46.7467 -23.5075, -46.74671 -23.507...</td>\n",
       "    </tr>\n",
       "    <tr>\n",
       "      <th>95</th>\n",
       "      <td>3550308</td>\n",
       "      <td>São Paulo</td>\n",
       "      <td>355030896</td>\n",
       "      <td>Lajeado</td>\n",
       "      <td>POINT (-46.408584 -23.533696)</td>\n",
       "      <td>Zona Leste 2</td>\n",
       "      <td>POLYGON ((-46.41053 -23.54364, -46.41054 -23.5...</td>\n",
       "    </tr>\n",
       "  </tbody>\n",
       "</table>\n",
       "<p>96 rows × 7 columns</p>\n",
       "</div>"
      ],
      "text/plain": [
       "     CD_MUN     NM_MUN    CD_DIST            NM_DIST  \\\n",
       "0   3550308  São Paulo  355030801          Água Rasa   \n",
       "1   3550308  São Paulo  355030802  Alto de Pinheiros   \n",
       "2   3550308  São Paulo  355030803         Anhanguera   \n",
       "3   3550308  São Paulo  355030804         Aricanduva   \n",
       "4   3550308  São Paulo  355030805        Artur Alvim   \n",
       "..      ...        ...        ...                ...   \n",
       "91  3550308  São Paulo  355030892      Vila Medeiros   \n",
       "92  3550308  São Paulo  355030893      Vila Prudente   \n",
       "93  3550308  São Paulo  355030894         Vila Sônia   \n",
       "94  3550308  São Paulo  355030895       São Domingos   \n",
       "95  3550308  São Paulo  355030896            Lajeado   \n",
       "\n",
       "                     CORD_CENTRAL        NOME_ZONA  \\\n",
       "0    POINT (-46.571849 -23.56688)     Zona Leste 1   \n",
       "1   POINT (-46.711886 -23.547577)  Centro Ampliado   \n",
       "2   POINT (-46.792944 -23.430469)       Zona Norte   \n",
       "3   POINT (-46.515679 -23.573925)     Zona Leste 1   \n",
       "4   POINT (-46.485831 -23.540212)     Zona Leste 1   \n",
       "..                            ...              ...   \n",
       "91  POINT (-46.577504 -23.488749)       Zona Norte   \n",
       "92  POINT (-46.572696 -23.592558)     Zona Leste 1   \n",
       "93   POINT (-46.739183 -23.59938)  Centro Ampliado   \n",
       "94  POINT (-46.747181 -23.493431)       Zona Norte   \n",
       "95  POINT (-46.408584 -23.533696)     Zona Leste 2   \n",
       "\n",
       "                                             geometry  \n",
       "0   POLYGON ((-46.57207 -23.57948, -46.57212 -23.5...  \n",
       "1   POLYGON ((-46.69581 -23.55327, -46.69604 -23.5...  \n",
       "2   POLYGON ((-46.76157 -23.43178, -46.76157 -23.4...  \n",
       "3   POLYGON ((-46.51779 -23.58627, -46.51786 -23.5...  \n",
       "4   POLYGON ((-46.48574 -23.55441, -46.48574 -23.5...  \n",
       "..                                                ...  \n",
       "91  POLYGON ((-46.57783 -23.49527, -46.57794 -23.4...  \n",
       "92  POLYGON ((-46.5748 -23.60107, -46.575 -23.6009...  \n",
       "93  POLYGON ((-46.72791 -23.61149, -46.72798 -23.6...  \n",
       "94  POLYGON ((-46.7467 -23.5075, -46.74671 -23.507...  \n",
       "95  POLYGON ((-46.41053 -23.54364, -46.41054 -23.5...  \n",
       "\n",
       "[96 rows x 7 columns]"
      ]
     },
     "execution_count": 34,
     "metadata": {},
     "output_type": "execute_result"
    }
   ],
   "source": [
    "distrito_sp = gpd.read_file('distrito_sp.geojson')\n",
    "distrito_sp"
   ]
  },
  {
   "cell_type": "markdown",
   "metadata": {},
   "source": [
    "#### Zonas - Cidade SP"
   ]
  },
  {
   "cell_type": "code",
   "execution_count": 19,
   "metadata": {},
   "outputs": [
    {
     "data": {
      "text/html": [
       "<div>\n",
       "<style scoped>\n",
       "    .dataframe tbody tr th:only-of-type {\n",
       "        vertical-align: middle;\n",
       "    }\n",
       "\n",
       "    .dataframe tbody tr th {\n",
       "        vertical-align: top;\n",
       "    }\n",
       "\n",
       "    .dataframe thead th {\n",
       "        text-align: right;\n",
       "    }\n",
       "</style>\n",
       "<table border=\"1\" class=\"dataframe\">\n",
       "  <thead>\n",
       "    <tr style=\"text-align: right;\">\n",
       "      <th></th>\n",
       "      <th>Zona</th>\n",
       "      <th>CORD_CENTRAL</th>\n",
       "      <th>CD_MUN</th>\n",
       "      <th>geometry</th>\n",
       "    </tr>\n",
       "  </thead>\n",
       "  <tbody>\n",
       "    <tr>\n",
       "      <th>0</th>\n",
       "      <td>Centro Ampliado</td>\n",
       "      <td>POINT (-46.679579 -23.582388)</td>\n",
       "      <td>3550308</td>\n",
       "      <td>POLYGON ((-46.67421 -23.64222, -46.67437 -23.6...</td>\n",
       "    </tr>\n",
       "    <tr>\n",
       "      <th>1</th>\n",
       "      <td>Zona Leste 1</td>\n",
       "      <td>POINT (-46.542663 -23.561831)</td>\n",
       "      <td>3550308</td>\n",
       "      <td>POLYGON ((-46.57536 -23.6008, -46.57552 -23.60...</td>\n",
       "    </tr>\n",
       "    <tr>\n",
       "      <th>2</th>\n",
       "      <td>Zona Leste 2</td>\n",
       "      <td>POINT (-46.443353 -23.549433)</td>\n",
       "      <td>3550308</td>\n",
       "      <td>POLYGON ((-46.45643 -23.64132, -46.4565 -23.64...</td>\n",
       "    </tr>\n",
       "    <tr>\n",
       "      <th>3</th>\n",
       "      <td>Zona Norte</td>\n",
       "      <td>POINT (-46.673093 -23.45335)</td>\n",
       "      <td>3550308</td>\n",
       "      <td>POLYGON ((-46.67805 -23.51367, -46.67863 -23.5...</td>\n",
       "    </tr>\n",
       "    <tr>\n",
       "      <th>4</th>\n",
       "      <td>Zona Sul</td>\n",
       "      <td>POINT (-46.708599 -23.813758)</td>\n",
       "      <td>3550308</td>\n",
       "      <td>POLYGON ((-46.60925 -23.90462, -46.60876 -23.9...</td>\n",
       "    </tr>\n",
       "  </tbody>\n",
       "</table>\n",
       "</div>"
      ],
      "text/plain": [
       "              Zona                   CORD_CENTRAL   CD_MUN  \\\n",
       "0  Centro Ampliado  POINT (-46.679579 -23.582388)  3550308   \n",
       "1     Zona Leste 1  POINT (-46.542663 -23.561831)  3550308   \n",
       "2     Zona Leste 2  POINT (-46.443353 -23.549433)  3550308   \n",
       "3       Zona Norte   POINT (-46.673093 -23.45335)  3550308   \n",
       "4         Zona Sul  POINT (-46.708599 -23.813758)  3550308   \n",
       "\n",
       "                                            geometry  \n",
       "0  POLYGON ((-46.67421 -23.64222, -46.67437 -23.6...  \n",
       "1  POLYGON ((-46.57536 -23.6008, -46.57552 -23.60...  \n",
       "2  POLYGON ((-46.45643 -23.64132, -46.4565 -23.64...  \n",
       "3  POLYGON ((-46.67805 -23.51367, -46.67863 -23.5...  \n",
       "4  POLYGON ((-46.60925 -23.90462, -46.60876 -23.9...  "
      ]
     },
     "execution_count": 19,
     "metadata": {},
     "output_type": "execute_result"
    }
   ],
   "source": [
    "zonas_sp = gpd.read_file('zonas_sp.geojson')\n",
    "zonas_sp"
   ]
  }
 ],
 "metadata": {
  "kernelspec": {
   "display_name": ".venv",
   "language": "python",
   "name": "python3"
  },
  "language_info": {
   "codemirror_mode": {
    "name": "ipython",
    "version": 3
   },
   "file_extension": ".py",
   "mimetype": "text/x-python",
   "name": "python",
   "nbconvert_exporter": "python",
   "pygments_lexer": "ipython3",
   "version": "3.11.4"
  }
 },
 "nbformat": 4,
 "nbformat_minor": 2
}
