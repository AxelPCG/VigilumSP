{
 "cells": [
  {
   "cell_type": "markdown",
   "metadata": {},
   "source": [
    "## Script para Coleta de Dados Meteorológicos\n",
    "\n",
    "Este script coleta dados meteorológicos para diferentes zonas da cidade de São Paulo utilizando a API da Meteomatics.\n",
    "\n",
    "### Zonas de São Paulo\n",
    "\n",
    "As zonas de São Paulo foram divididas conforme as coordenadas abaixo:\n",
    "\n",
    "- **Zona Central:**\n",
    "  - Coordenadas: `(-23.5505, -46.6333)`\n",
    "  - Região representativa: Centro de São Paulo (próximo à Praça da Sé).\n",
    "\n",
    "- **Zona Norte:**\n",
    "  - Coordenadas: `(-23.4941, -46.6246)`\n",
    "  - Região representativa: Santana.\n",
    "\n",
    "- **Zona Sul:**\n",
    "  - Coordenadas: `(-23.6739, -46.5585)`\n",
    "  - Região representativa: Santo Amaro.\n",
    "\n",
    "- **Zona Oeste:**\n",
    "  - Coordenadas: `(-23.5617, -46.6795)`\n",
    "  - Região representativa: Butantã.\n",
    "\n",
    "- **Zona Leste:**\n",
    "  - Coordenadas: `(-23.5428, -46.4748)`\n",
    "  - Região representativa: Itaquera."
   ]
  },
  {
   "cell_type": "code",
   "execution_count": 1,
   "metadata": {},
   "outputs": [
    {
     "data": {
      "text/plain": [
       "True"
      ]
     },
     "execution_count": 1,
     "metadata": {},
     "output_type": "execute_result"
    }
   ],
   "source": [
    "# Bibliotecas\n",
    "import meteomatics.api as api\n",
    "import datetime as dt\n",
    "import os\n",
    "from dotenv import load_dotenv\n",
    "load_dotenv()"
   ]
  },
  {
   "cell_type": "code",
   "execution_count": 2,
   "metadata": {},
   "outputs": [],
   "source": [
    "# Carregar dados login\n",
    "username = os.getenv('USERNAME_WEATHER_API')\n",
    "password = os.getenv('PASSWORD_WEATHER_API')"
   ]
  },
  {
   "cell_type": "code",
   "execution_count": 3,
   "metadata": {},
   "outputs": [],
   "source": [
    "# Coordenadas aproximadas para as diferentes zonas de São Paulo\n",
    "zonas_sp = {\n",
    "    'zona_central': (-23.5505, -46.6333),\n",
    "    'zona_norte': (-23.4941, -46.6246),\n",
    "    'zona_sul': (-23.6739, -46.5585),\n",
    "    'zona_oeste': (-23.5617, -46.6795),\n",
    "    'zona_leste': (-23.5428, -46.4748)\n",
    "}"
   ]
  },
  {
   "cell_type": "code",
   "execution_count": 9,
   "metadata": {},
   "outputs": [],
   "source": [
    "# Parâmetros de entrada\n",
    "parameters = ['t_2m:C', 'precip_1h:mm', 'wind_speed_10m:ms']\n",
    "model = 'mix'\n",
    "startdate = dt.datetime.utcnow().replace(minute=0, second=0, microsecond=0)\n",
    "enddate = startdate + dt.timedelta(days=7)\n",
    "interval = dt.timedelta(hours=1)"
   ]
  },
  {
   "cell_type": "code",
   "execution_count": 10,
   "metadata": {},
   "outputs": [],
   "source": [
    "# Dicionário para armazenar os dados de cada zona\n",
    "dados_zonas = {}\n",
    "\n",
    "for zona, coords in zonas_sp.items():\n",
    "    df = api.query_time_series([coords], startdate, enddate, interval, parameters, username, password, model=model)\n",
    "    dados_zonas[zona] = df"
   ]
  },
  {
   "cell_type": "code",
   "execution_count": 11,
   "metadata": {},
   "outputs": [],
   "source": [
    "zona_central_df = dados_zonas['zona_central']\n",
    "zona_norte_df = dados_zonas['zona_norte']\n",
    "zona_sul_df = dados_zonas['zona_sul']\n",
    "zona_oeste_df = dados_zonas['zona_oeste']\n",
    "zona_leste_df = dados_zonas['zona_leste']"
   ]
  },
  {
   "cell_type": "code",
   "execution_count": 12,
   "metadata": {},
   "outputs": [
    {
     "name": "stdout",
     "output_type": "stream",
     "text": [
      "<class 'pandas.core.frame.DataFrame'>\n",
      "MultiIndex: 169 entries, (np.float64(-23.5505), np.float64(-46.6333), Timestamp('2024-09-03 17:00:00+0000', tz='UTC')) to (np.float64(-23.5505), np.float64(-46.6333), Timestamp('2024-09-10 17:00:00+0000', tz='UTC'))\n",
      "Data columns (total 3 columns):\n",
      " #   Column             Non-Null Count  Dtype  \n",
      "---  ------             --------------  -----  \n",
      " 0   t_2m:C             169 non-null    float64\n",
      " 1   precip_1h:mm       169 non-null    float64\n",
      " 2   wind_speed_10m:ms  169 non-null    float64\n",
      "dtypes: float64(3)\n",
      "memory usage: 10.4 KB\n"
     ]
    }
   ],
   "source": [
    "zona_central_df.info()"
   ]
  },
  {
   "cell_type": "code",
   "execution_count": 13,
   "metadata": {},
   "outputs": [
    {
     "data": {
      "text/html": [
       "<div>\n",
       "<style scoped>\n",
       "    .dataframe tbody tr th:only-of-type {\n",
       "        vertical-align: middle;\n",
       "    }\n",
       "\n",
       "    .dataframe tbody tr th {\n",
       "        vertical-align: top;\n",
       "    }\n",
       "\n",
       "    .dataframe thead th {\n",
       "        text-align: right;\n",
       "    }\n",
       "</style>\n",
       "<table border=\"1\" class=\"dataframe\">\n",
       "  <thead>\n",
       "    <tr style=\"text-align: right;\">\n",
       "      <th></th>\n",
       "      <th></th>\n",
       "      <th></th>\n",
       "      <th>t_2m:C</th>\n",
       "      <th>precip_1h:mm</th>\n",
       "      <th>wind_speed_10m:ms</th>\n",
       "    </tr>\n",
       "    <tr>\n",
       "      <th>lat</th>\n",
       "      <th>lon</th>\n",
       "      <th>validdate</th>\n",
       "      <th></th>\n",
       "      <th></th>\n",
       "      <th></th>\n",
       "    </tr>\n",
       "  </thead>\n",
       "  <tbody>\n",
       "    <tr>\n",
       "      <th rowspan=\"11\" valign=\"top\">-23.5505</th>\n",
       "      <th rowspan=\"11\" valign=\"top\">-46.6333</th>\n",
       "      <th>2024-09-03 17:00:00+00:00</th>\n",
       "      <td>30.9</td>\n",
       "      <td>0.0</td>\n",
       "      <td>2.5</td>\n",
       "    </tr>\n",
       "    <tr>\n",
       "      <th>2024-09-03 18:00:00+00:00</th>\n",
       "      <td>31.1</td>\n",
       "      <td>0.0</td>\n",
       "      <td>3.5</td>\n",
       "    </tr>\n",
       "    <tr>\n",
       "      <th>2024-09-03 19:00:00+00:00</th>\n",
       "      <td>29.1</td>\n",
       "      <td>0.0</td>\n",
       "      <td>5.3</td>\n",
       "    </tr>\n",
       "    <tr>\n",
       "      <th>2024-09-03 20:00:00+00:00</th>\n",
       "      <td>27.2</td>\n",
       "      <td>0.0</td>\n",
       "      <td>4.3</td>\n",
       "    </tr>\n",
       "    <tr>\n",
       "      <th>2024-09-03 21:00:00+00:00</th>\n",
       "      <td>24.3</td>\n",
       "      <td>0.0</td>\n",
       "      <td>2.9</td>\n",
       "    </tr>\n",
       "    <tr>\n",
       "      <th>...</th>\n",
       "      <td>...</td>\n",
       "      <td>...</td>\n",
       "      <td>...</td>\n",
       "    </tr>\n",
       "    <tr>\n",
       "      <th>2024-09-10 13:00:00+00:00</th>\n",
       "      <td>25.4</td>\n",
       "      <td>0.0</td>\n",
       "      <td>2.3</td>\n",
       "    </tr>\n",
       "    <tr>\n",
       "      <th>2024-09-10 14:00:00+00:00</th>\n",
       "      <td>26.8</td>\n",
       "      <td>0.0</td>\n",
       "      <td>2.6</td>\n",
       "    </tr>\n",
       "    <tr>\n",
       "      <th>2024-09-10 15:00:00+00:00</th>\n",
       "      <td>28.1</td>\n",
       "      <td>0.0</td>\n",
       "      <td>3.0</td>\n",
       "    </tr>\n",
       "    <tr>\n",
       "      <th>2024-09-10 16:00:00+00:00</th>\n",
       "      <td>29.5</td>\n",
       "      <td>0.0</td>\n",
       "      <td>3.4</td>\n",
       "    </tr>\n",
       "    <tr>\n",
       "      <th>2024-09-10 17:00:00+00:00</th>\n",
       "      <td>30.9</td>\n",
       "      <td>0.0</td>\n",
       "      <td>3.7</td>\n",
       "    </tr>\n",
       "  </tbody>\n",
       "</table>\n",
       "<p>169 rows × 3 columns</p>\n",
       "</div>"
      ],
      "text/plain": [
       "                                             t_2m:C  precip_1h:mm  \\\n",
       "lat      lon      validdate                                         \n",
       "-23.5505 -46.6333 2024-09-03 17:00:00+00:00    30.9           0.0   \n",
       "                  2024-09-03 18:00:00+00:00    31.1           0.0   \n",
       "                  2024-09-03 19:00:00+00:00    29.1           0.0   \n",
       "                  2024-09-03 20:00:00+00:00    27.2           0.0   \n",
       "                  2024-09-03 21:00:00+00:00    24.3           0.0   \n",
       "...                                             ...           ...   \n",
       "                  2024-09-10 13:00:00+00:00    25.4           0.0   \n",
       "                  2024-09-10 14:00:00+00:00    26.8           0.0   \n",
       "                  2024-09-10 15:00:00+00:00    28.1           0.0   \n",
       "                  2024-09-10 16:00:00+00:00    29.5           0.0   \n",
       "                  2024-09-10 17:00:00+00:00    30.9           0.0   \n",
       "\n",
       "                                             wind_speed_10m:ms  \n",
       "lat      lon      validdate                                     \n",
       "-23.5505 -46.6333 2024-09-03 17:00:00+00:00                2.5  \n",
       "                  2024-09-03 18:00:00+00:00                3.5  \n",
       "                  2024-09-03 19:00:00+00:00                5.3  \n",
       "                  2024-09-03 20:00:00+00:00                4.3  \n",
       "                  2024-09-03 21:00:00+00:00                2.9  \n",
       "...                                                        ...  \n",
       "                  2024-09-10 13:00:00+00:00                2.3  \n",
       "                  2024-09-10 14:00:00+00:00                2.6  \n",
       "                  2024-09-10 15:00:00+00:00                3.0  \n",
       "                  2024-09-10 16:00:00+00:00                3.4  \n",
       "                  2024-09-10 17:00:00+00:00                3.7  \n",
       "\n",
       "[169 rows x 3 columns]"
      ]
     },
     "execution_count": 13,
     "metadata": {},
     "output_type": "execute_result"
    }
   ],
   "source": [
    "zona_central_df"
   ]
  }
 ],
 "metadata": {
  "kernelspec": {
   "display_name": ".venv",
   "language": "python",
   "name": "python3"
  },
  "language_info": {
   "codemirror_mode": {
    "name": "ipython",
    "version": 3
   },
   "file_extension": ".py",
   "mimetype": "text/x-python",
   "name": "python",
   "nbconvert_exporter": "python",
   "pygments_lexer": "ipython3",
   "version": "3.11.4"
  }
 },
 "nbformat": 4,
 "nbformat_minor": 2
}
